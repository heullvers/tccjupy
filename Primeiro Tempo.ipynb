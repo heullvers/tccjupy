{
 "cells": [
  {
   "cell_type": "code",
   "execution_count": 1,
   "metadata": {},
   "outputs": [],
   "source": [
    "#Importação das bibliotecas\n",
    "import pandas as pd\n",
    "import numpy as np\n",
    "import matplotlib.pyplot as plt"
   ]
  },
  {
   "cell_type": "code",
   "execution_count": 2,
   "metadata": {},
   "outputs": [],
   "source": [
    "#Importação dos dados \n",
    "dataset = pd.read_csv('../dados/dadosFirstTime.csv', low_memory=False)"
   ]
  },
  {
   "cell_type": "code",
   "execution_count": 3,
   "metadata": {},
   "outputs": [
    {
     "data": {
      "text/plain": [
       "Index(['País', 'Campeonato', 'timeMandante', 'timeVisitante', 'Posse de bolaM',\n",
       "       'Posse de bolaV', 'Tentativas de golM', 'Tentativas de golV',\n",
       "       'FinalizaçõesM', 'FinalizaçõesV', 'Chutes foraM', 'Chutes foraV',\n",
       "       'Chutes bloqueadosM', 'Chutes bloqueadosV', 'Faltas cobradasM',\n",
       "       'Faltas cobradasV', 'EscanteiosM', 'EscanteiosV', 'ImpedimentosM',\n",
       "       'ImpedimentosV', 'Defesas do goleiroM', 'Defesas do goleiroV',\n",
       "       'FaltasM', 'FaltasV', 'Cartões amarelosM', 'Cartões amarelosV',\n",
       "       'Cartões VermelhosM', 'Cartões VermelhosV', 'Total de passesM',\n",
       "       'Total de passesV', 'DesarmesM', 'DesarmesV', 'AtaquesM', 'AtaquesV',\n",
       "       'Ataques PerigososM', 'Ataques PerigososV', 'OddM', 'OddE', 'OddV',\n",
       "       'DiferencaGols', 'PlacarPrimeiroTempo', 'PlacarFinal'],\n",
       "      dtype='object')"
      ]
     },
     "execution_count": 3,
     "metadata": {},
     "output_type": "execute_result"
    }
   ],
   "source": [
    "dataset.columns"
   ]
  },
  {
   "cell_type": "code",
   "execution_count": 4,
   "metadata": {},
   "outputs": [],
   "source": [
    "dataset.drop(['País', 'Campeonato', 'timeMandante', 'timeVisitante', 'FaltasM', 'FaltasV', 'Chutes bloqueadosM',\n",
    "             'Chutes bloqueadosV'], axis=1, inplace=True)"
   ]
  },
  {
   "cell_type": "code",
   "execution_count": 5,
   "metadata": {},
   "outputs": [],
   "source": [
    "X = dataset"
   ]
  },
  {
   "cell_type": "code",
   "execution_count": 6,
   "metadata": {},
   "outputs": [],
   "source": [
    "##Somente duas classes\n",
    "#X = X.loc[X['PlacarFinal'] != 'E']"
   ]
  },
  {
   "cell_type": "code",
   "execution_count": 7,
   "metadata": {},
   "outputs": [
    {
     "data": {
      "text/plain": [
       "array(['D', 'V', 'E'], dtype=object)"
      ]
     },
     "execution_count": 7,
     "metadata": {},
     "output_type": "execute_result"
    }
   ],
   "source": [
    "X.PlacarFinal.unique()"
   ]
  },
  {
   "cell_type": "code",
   "execution_count": 8,
   "metadata": {},
   "outputs": [
    {
     "data": {
      "text/plain": [
       "DesarmesV              14903\n",
       "DesarmesM              14903\n",
       "Total de passesV       14052\n",
       "Total de passesM       14052\n",
       "AtaquesV               12383\n",
       "AtaquesM               12383\n",
       "Ataques PerigososV     12382\n",
       "Ataques PerigososM     12382\n",
       "Faltas cobradasM        4775\n",
       "Faltas cobradasV        4775\n",
       "Posse de bolaM          2310\n",
       "Posse de bolaV          2310\n",
       "ImpedimentosV           1944\n",
       "ImpedimentosM           1944\n",
       "Chutes foraM            1879\n",
       "Chutes foraV            1879\n",
       "EscanteiosV             1875\n",
       "EscanteiosM             1875\n",
       "Defesas do goleiroV     1798\n",
       "Defesas do goleiroM     1798\n",
       "Tentativas de golV      1794\n",
       "Tentativas de golM      1794\n",
       "FinalizaçõesM           1793\n",
       "FinalizaçõesV           1793\n",
       "PlacarFinal                0\n",
       "PlacarPrimeiroTempo        0\n",
       "Cartões amarelosV          0\n",
       "Cartões VermelhosM         0\n",
       "Cartões VermelhosV         0\n",
       "OddM                       0\n",
       "OddE                       0\n",
       "OddV                       0\n",
       "DiferencaGols              0\n",
       "Cartões amarelosM          0\n",
       "dtype: int64"
      ]
     },
     "execution_count": 8,
     "metadata": {},
     "output_type": "execute_result"
    }
   ],
   "source": [
    "X.isnull().sum().sort_values(ascending=False)"
   ]
  },
  {
   "cell_type": "code",
   "execution_count": 9,
   "metadata": {},
   "outputs": [],
   "source": [
    "novos_titulos = {\n",
    "    'DesarmesM' : 'desarmes_mandante',\n",
    "    'DesarmesV' : 'desarmes_visitante', \n",
    "    'Total de passesM' : 'total_passes_mandante',\n",
    "    'Total de passesV' : 'total_passes_visitante',\n",
    "    'AtaquesV' : 'ataques_visitante',\n",
    "    'AtaquesM' : 'ataques_mandante',      \n",
    "    'Ataques PerigososV' : 'ataques_perigosos_visitante',   \n",
    "    'Ataques PerigososM' : 'ataques_perigosos_mandante',   \n",
    "    'Chutes bloqueadosV' : 'chutes_bloqueados_visitante',    \n",
    "    'Chutes bloqueadosM' : 'chutes_bloqueados_mandante',    \n",
    "    'Faltas cobradasV' : 'faltas_cobradas_visitante',      \n",
    "    'Faltas cobradasM': 'faltas_cobradas_mandante',     \n",
    "    'Posse de bolaM' : 'posse_bola_mandante',       \n",
    "    'Posse de bolaV' : 'posse_bola_visitante',      \n",
    "    'ImpedimentosM'  : 'impedimentos_mandante',    \n",
    "    'ImpedimentosV'  : 'impedimentos_visitante',        \n",
    "    'Chutes foraV' : 'chutes_fora_visitante',          \n",
    "    'Chutes foraM' : 'chutes_fora_mandante',         \n",
    "    'EscanteiosM' : 'escanteios_mandante',           \n",
    "    'EscanteiosV' : 'escanteios_visitante',            \n",
    "    'Defesas do goleiroV' : 'defesas_goleiro_visitante',     \n",
    "    'Defesas do goleiroM' : 'defesas_goleiro_mandante',    \n",
    "    'Tentativas de golV'  : 'tentativas_gol_visitante',    \n",
    "    'Tentativas de golM'  : 'tentativas_gol_mandante',    \n",
    "    'FinalizaçõesV'  : 'finalizacoes_visitante',         \n",
    "    'FinalizaçõesM'  : 'finalizacoes_mandante',        \n",
    "    'DiferencaGols'  : 'diferenca_gols_primeiro_tempo',           \n",
    "    'Cartões amarelosM' : 'cartoes_amarelos_mandante',     \n",
    "    'Cartões amarelosV' : 'cartoes_amarelos_visitante',        \n",
    "    'Cartões VermelhosM': 'cartoes_vermelhos_mandante',       \n",
    "    'Cartões VermelhosV': 'cartoes_vermelhos_visitante',       \n",
    "    'OddM': 'odd_mandante',                      \n",
    "    'OddE': 'odd_empate',                     \n",
    "    'OddV': 'odd_visitante',                      \n",
    "    'PlacarPrimeiroTempo': 'placar_primeiro_tempo',\n",
    "}"
   ]
  },
  {
   "cell_type": "code",
   "execution_count": 10,
   "metadata": {},
   "outputs": [],
   "source": [
    "X = X.rename(columns=novos_titulos)"
   ]
  },
  {
   "cell_type": "code",
   "execution_count": 11,
   "metadata": {},
   "outputs": [],
   "source": [
    "X.drop(['desarmes_mandante', 'desarmes_visitante', 'total_passes_mandante', 'total_passes_visitante',\n",
    "       'ataques_mandante', 'ataques_visitante', 'ataques_perigosos_mandante', 'ataques_perigosos_visitante'], axis=1, inplace=True)"
   ]
  },
  {
   "cell_type": "markdown",
   "metadata": {},
   "source": [
    "### Tratamento dados nulos"
   ]
  },
  {
   "cell_type": "code",
   "execution_count": 12,
   "metadata": {},
   "outputs": [],
   "source": [
    "mediana_posse_bola_mandante = X.posse_bola_mandante.median()\n",
    "mediana_posse_bola_visitante = X.posse_bola_visitante.median()\n",
    "\n",
    "\n",
    "mediana_tentativas_gol_mandante = X.tentativas_gol_mandante.median()\n",
    "mediana_tentativas_gol_visitante = X.tentativas_gol_visitante.median()\n",
    "\n",
    "mediana_finalizacoes_mandante = X.finalizacoes_mandante.median()\n",
    "mediana_finalizacoes_visitante = X.finalizacoes_visitante.median()\n",
    "\n",
    "mediana_chutes_fora_mandante = X.chutes_fora_mandante.median()\n",
    "mediana_chutes_fora_visitante = X.chutes_fora_visitante.median()\n",
    "\n",
    "mediana_faltas_cobradas_mandante = X.faltas_cobradas_mandante.median()\n",
    "mediana_faltas_cobradas_visitante = X.faltas_cobradas_visitante.median()\n",
    "\n",
    "mediana_escanteios_mandante = X.escanteios_mandante.median()\n",
    "mediana_escanteios_visitante = X.escanteios_visitante.median()\n",
    "\n",
    "mediana_impedimentos_mandante = X.impedimentos_mandante.median()\n",
    "mediana_impedimentos_visitante = X.impedimentos_visitante.median()\n",
    "\n",
    "mediana_defesas_goleiro_mandante = X.defesas_goleiro_mandante.median()\n",
    "mediana_defesas_goleiro_visitante = X.defesas_goleiro_visitante.median()"
   ]
  },
  {
   "cell_type": "code",
   "execution_count": 13,
   "metadata": {},
   "outputs": [],
   "source": [
    "X.posse_bola_mandante.fillna(mediana_posse_bola_mandante, inplace=True)\n",
    "X.posse_bola_visitante.fillna(mediana_posse_bola_visitante,inplace=True)\n",
    "\n",
    "X.tentativas_gol_mandante.fillna(mediana_tentativas_gol_mandante,inplace=True)\n",
    "X.tentativas_gol_visitante.fillna(mediana_tentativas_gol_visitante,inplace=True)\n",
    "\n",
    "X.finalizacoes_mandante.fillna(mediana_finalizacoes_mandante,inplace=True)\n",
    "X.finalizacoes_visitante.fillna(mediana_finalizacoes_visitante,inplace=True)\n",
    "\n",
    "X.chutes_fora_mandante.fillna(mediana_chutes_fora_mandante,inplace=True)\n",
    "X.chutes_fora_visitante.fillna(mediana_chutes_fora_visitante,inplace=True)\n",
    "\n",
    "X.faltas_cobradas_mandante.fillna(mediana_faltas_cobradas_mandante,inplace=True)\n",
    "X.faltas_cobradas_visitante.fillna(mediana_faltas_cobradas_visitante,inplace=True)\n",
    "\n",
    "X.escanteios_mandante.fillna(mediana_escanteios_mandante,inplace=True)\n",
    "X.escanteios_visitante.fillna(mediana_escanteios_visitante,inplace=True)\n",
    "\n",
    "X.impedimentos_mandante.fillna(mediana_impedimentos_mandante,inplace=True)\n",
    "X.impedimentos_visitante.fillna(mediana_impedimentos_visitante,inplace=True)\n",
    "\n",
    "X.defesas_goleiro_mandante.fillna(mediana_defesas_goleiro_mandante,inplace=True)\n",
    "X.defesas_goleiro_visitante.fillna(mediana_defesas_goleiro_visitante,inplace=True)"
   ]
  },
  {
   "cell_type": "code",
   "execution_count": 14,
   "metadata": {},
   "outputs": [
    {
     "data": {
      "text/plain": [
       "posse_bola_mandante              0\n",
       "posse_bola_visitante             0\n",
       "tentativas_gol_mandante          0\n",
       "tentativas_gol_visitante         0\n",
       "finalizacoes_mandante            0\n",
       "finalizacoes_visitante           0\n",
       "chutes_fora_mandante             0\n",
       "chutes_fora_visitante            0\n",
       "faltas_cobradas_mandante         0\n",
       "faltas_cobradas_visitante        0\n",
       "escanteios_mandante              0\n",
       "escanteios_visitante             0\n",
       "impedimentos_mandante            0\n",
       "impedimentos_visitante           0\n",
       "defesas_goleiro_mandante         0\n",
       "defesas_goleiro_visitante        0\n",
       "cartoes_amarelos_mandante        0\n",
       "cartoes_amarelos_visitante       0\n",
       "cartoes_vermelhos_mandante       0\n",
       "cartoes_vermelhos_visitante      0\n",
       "odd_mandante                     0\n",
       "odd_empate                       0\n",
       "odd_visitante                    0\n",
       "diferenca_gols_primeiro_tempo    0\n",
       "placar_primeiro_tempo            0\n",
       "PlacarFinal                      0\n",
       "dtype: int64"
      ]
     },
     "execution_count": 14,
     "metadata": {},
     "output_type": "execute_result"
    }
   ],
   "source": [
    "X.isnull().sum()"
   ]
  },
  {
   "cell_type": "markdown",
   "metadata": {},
   "source": [
    "### Tratamento outliers"
   ]
  },
  {
   "cell_type": "code",
   "execution_count": 15,
   "metadata": {},
   "outputs": [
    {
     "data": {
      "text/plain": [
       "array([52., 34., 59., 42., 56., 46., 49., 68., 43., 62., 24., 55., 63.,\n",
       "       66., 61., 36., 45., 57., 48., 37., 54., 70., 65., 60., 47., 58.,\n",
       "       31., 41., 50., 67., 53., 51., 64., 38., 35., 39., 40., 44., 76.,\n",
       "       32., 73., 71., 74., 75., 26., 72., 69., 29., 27., 33., 79., 30.,\n",
       "        0., 28., 78., 81., 77., 23., 25., 80., 83., 21., 82., 22., 18.,\n",
       "       20., 87., 85., 84., 19., 17., 86.,  2.])"
      ]
     },
     "execution_count": 15,
     "metadata": {},
     "output_type": "execute_result"
    }
   ],
   "source": [
    "X.posse_bola_mandante.unique()"
   ]
  },
  {
   "cell_type": "code",
   "execution_count": 16,
   "metadata": {},
   "outputs": [],
   "source": [
    "#quando posse de bola do mandante foi igual a zero, a do visitante também foi\n",
    "remove_posse =  X.loc[X['posse_bola_mandante'] == 0]\n",
    "X.drop(remove_posse.index, inplace=True)"
   ]
  },
  {
   "cell_type": "code",
   "execution_count": 17,
   "metadata": {},
   "outputs": [
    {
     "data": {
      "text/plain": [
       "array([ 5.,  1.,  0.,  2.,  6.,  3.,  4.,  7.,  8.,  9., 10., -1.])"
      ]
     },
     "execution_count": 17,
     "metadata": {},
     "output_type": "execute_result"
    }
   ],
   "source": [
    "X.defesas_goleiro_mandante.unique()"
   ]
  },
  {
   "cell_type": "code",
   "execution_count": 18,
   "metadata": {},
   "outputs": [
    {
     "data": {
      "text/plain": [
       "12208   -1.0\n",
       "Name: defesas_goleiro_mandante, dtype: float64"
      ]
     },
     "execution_count": 18,
     "metadata": {},
     "output_type": "execute_result"
    }
   ],
   "source": [
    "X.loc[X['defesas_goleiro_mandante'] == -1].defesas_goleiro_mandante"
   ]
  },
  {
   "cell_type": "code",
   "execution_count": 19,
   "metadata": {},
   "outputs": [],
   "source": [
    "#remoção da defesa do goleiro negativa\n",
    "X.drop(12208, inplace=True)"
   ]
  },
  {
   "cell_type": "code",
   "execution_count": 20,
   "metadata": {},
   "outputs": [
    {
     "data": {
      "text/plain": [
       "posse_bola_mandante              float64\n",
       "posse_bola_visitante             float64\n",
       "tentativas_gol_mandante          float64\n",
       "tentativas_gol_visitante         float64\n",
       "finalizacoes_mandante            float64\n",
       "finalizacoes_visitante           float64\n",
       "chutes_fora_mandante             float64\n",
       "chutes_fora_visitante            float64\n",
       "faltas_cobradas_mandante         float64\n",
       "faltas_cobradas_visitante        float64\n",
       "escanteios_mandante              float64\n",
       "escanteios_visitante             float64\n",
       "impedimentos_mandante            float64\n",
       "impedimentos_visitante           float64\n",
       "defesas_goleiro_mandante         float64\n",
       "defesas_goleiro_visitante        float64\n",
       "cartoes_amarelos_mandante          int64\n",
       "cartoes_amarelos_visitante         int64\n",
       "cartoes_vermelhos_mandante         int64\n",
       "cartoes_vermelhos_visitante        int64\n",
       "odd_mandante                     float64\n",
       "odd_empate                       float64\n",
       "odd_visitante                    float64\n",
       "diferenca_gols_primeiro_tempo      int64\n",
       "placar_primeiro_tempo             object\n",
       "PlacarFinal                       object\n",
       "dtype: object"
      ]
     },
     "execution_count": 20,
     "metadata": {},
     "output_type": "execute_result"
    }
   ],
   "source": [
    "X.dtypes"
   ]
  },
  {
   "cell_type": "markdown",
   "metadata": {},
   "source": [
    "### Tratamento variável categórica"
   ]
  },
  {
   "cell_type": "code",
   "execution_count": 21,
   "metadata": {},
   "outputs": [],
   "source": [
    "X = pd.get_dummies(X, columns=['placar_primeiro_tempo'], drop_first=True)"
   ]
  },
  {
   "cell_type": "markdown",
   "metadata": {},
   "source": [
    "### Reescala"
   ]
  },
  {
   "cell_type": "code",
   "execution_count": 22,
   "metadata": {},
   "outputs": [],
   "source": [
    "from sklearn.preprocessing import MinMaxScaler"
   ]
  },
  {
   "cell_type": "code",
   "execution_count": 23,
   "metadata": {},
   "outputs": [],
   "source": [
    "X[['posse_bola_mandante', 'posse_bola_visitante', 'tentativas_gol_mandante', 'tentativas_gol_visitante',\n",
    "         'finalizacoes_mandante', 'finalizacoes_visitante', 'chutes_fora_mandante', 'chutes_fora_visitante',\n",
    "         'faltas_cobradas_mandante', 'escanteios_mandante', 'escanteios_visitante', 'impedimentos_mandante',\n",
    "         'impedimentos_visitante', 'defesas_goleiro_visitante', 'defesas_goleiro_mandante',\n",
    "         'cartoes_amarelos_mandante', 'cartoes_amarelos_visitante', 'cartoes_vermelhos_mandante',\n",
    "         'cartoes_vermelhos_visitante', 'odd_mandante', 'odd_empate', 'odd_visitante', \n",
    "          'diferenca_gols_primeiro_tempo', 'placar_primeiro_tempo_E', 'placar_primeiro_tempo_V']] = MinMaxScaler().fit_transform(X[['posse_bola_mandante', 'posse_bola_visitante', 'tentativas_gol_mandante', 'tentativas_gol_visitante',\n",
    "         'finalizacoes_mandante', 'finalizacoes_visitante', 'chutes_fora_mandante', 'chutes_fora_visitante',\n",
    "         'faltas_cobradas_mandante', 'escanteios_mandante', 'escanteios_visitante', 'impedimentos_mandante',\n",
    "         'impedimentos_visitante', 'defesas_goleiro_visitante', 'defesas_goleiro_mandante',\n",
    "         'cartoes_amarelos_mandante', 'cartoes_amarelos_visitante', 'cartoes_vermelhos_mandante',\n",
    "         'cartoes_vermelhos_visitante', 'odd_mandante', 'odd_empate', 'odd_visitante', \n",
    "          'diferenca_gols_primeiro_tempo', 'placar_primeiro_tempo_E', 'placar_primeiro_tempo_V']])"
   ]
  },
  {
   "cell_type": "markdown",
   "metadata": {},
   "source": [
    "## Predição"
   ]
  },
  {
   "cell_type": "code",
   "execution_count": 24,
   "metadata": {},
   "outputs": [],
   "source": [
    "y = X.PlacarFinal\n",
    "X = X.drop('PlacarFinal', axis=1)"
   ]
  },
  {
   "cell_type": "code",
   "execution_count": 25,
   "metadata": {},
   "outputs": [],
   "source": [
    "y = y.map({'D': 0, 'E': 1, 'V': 2})"
   ]
  },
  {
   "cell_type": "markdown",
   "metadata": {},
   "source": [
    "#### Colunas removidas com base na importância delas"
   ]
  },
  {
   "cell_type": "code",
   "execution_count": 26,
   "metadata": {},
   "outputs": [],
   "source": [
    "X.drop(['defesas_goleiro_mandante', 'defesas_goleiro_visitante', 'cartoes_vermelhos_mandante', 'cartoes_vermelhos_visitante'], axis=1, inplace=True)\n",
    "\n",
    "X.drop(['chutes_fora_mandante', 'chutes_fora_visitante', 'impedimentos_mandante', 'impedimentos_visitante',\n",
    "       ], axis=1, inplace=True)\n",
    "\n",
    "X.drop(['faltas_cobradas_mandante', 'faltas_cobradas_visitante', 'escanteios_mandante', 'escanteios_visitante',\n",
    "        'cartoes_amarelos_mandante', 'cartoes_amarelos_visitante'], axis=1, inplace=True)\n"
   ]
  },
  {
   "cell_type": "code",
   "execution_count": 27,
   "metadata": {},
   "outputs": [
    {
     "data": {
      "text/html": [
       "<div>\n",
       "<style scoped>\n",
       "    .dataframe tbody tr th:only-of-type {\n",
       "        vertical-align: middle;\n",
       "    }\n",
       "\n",
       "    .dataframe tbody tr th {\n",
       "        vertical-align: top;\n",
       "    }\n",
       "\n",
       "    .dataframe thead th {\n",
       "        text-align: right;\n",
       "    }\n",
       "</style>\n",
       "<table border=\"1\" class=\"dataframe\">\n",
       "  <thead>\n",
       "    <tr style=\"text-align: right;\">\n",
       "      <th></th>\n",
       "      <th>posse_bola_mandante</th>\n",
       "      <th>posse_bola_visitante</th>\n",
       "      <th>tentativas_gol_mandante</th>\n",
       "      <th>tentativas_gol_visitante</th>\n",
       "      <th>finalizacoes_mandante</th>\n",
       "      <th>finalizacoes_visitante</th>\n",
       "      <th>odd_mandante</th>\n",
       "      <th>odd_empate</th>\n",
       "      <th>odd_visitante</th>\n",
       "      <th>diferenca_gols_primeiro_tempo</th>\n",
       "      <th>placar_primeiro_tempo_E</th>\n",
       "      <th>placar_primeiro_tempo_V</th>\n",
       "    </tr>\n",
       "  </thead>\n",
       "  <tbody>\n",
       "    <tr>\n",
       "      <th>0</th>\n",
       "      <td>0.588235</td>\n",
       "      <td>0.411765</td>\n",
       "      <td>0.192308</td>\n",
       "      <td>0.285714</td>\n",
       "      <td>0.230769</td>\n",
       "      <td>0.416667</td>\n",
       "      <td>0.114243</td>\n",
       "      <td>0.067164</td>\n",
       "      <td>0.034400</td>\n",
       "      <td>0.500000</td>\n",
       "      <td>1.0</td>\n",
       "      <td>0.0</td>\n",
       "    </tr>\n",
       "    <tr>\n",
       "      <th>1</th>\n",
       "      <td>0.588235</td>\n",
       "      <td>0.411765</td>\n",
       "      <td>0.153846</td>\n",
       "      <td>0.142857</td>\n",
       "      <td>0.076923</td>\n",
       "      <td>0.166667</td>\n",
       "      <td>0.053850</td>\n",
       "      <td>0.093817</td>\n",
       "      <td>0.064575</td>\n",
       "      <td>0.500000</td>\n",
       "      <td>1.0</td>\n",
       "      <td>0.0</td>\n",
       "    </tr>\n",
       "    <tr>\n",
       "      <th>2</th>\n",
       "      <td>0.588235</td>\n",
       "      <td>0.411765</td>\n",
       "      <td>0.307692</td>\n",
       "      <td>0.142857</td>\n",
       "      <td>0.230769</td>\n",
       "      <td>0.083333</td>\n",
       "      <td>0.033719</td>\n",
       "      <td>0.104478</td>\n",
       "      <td>0.124925</td>\n",
       "      <td>0.583333</td>\n",
       "      <td>0.0</td>\n",
       "      <td>1.0</td>\n",
       "    </tr>\n",
       "    <tr>\n",
       "      <th>3</th>\n",
       "      <td>0.588235</td>\n",
       "      <td>0.411765</td>\n",
       "      <td>0.461538</td>\n",
       "      <td>0.107143</td>\n",
       "      <td>0.538462</td>\n",
       "      <td>0.083333</td>\n",
       "      <td>0.094112</td>\n",
       "      <td>0.061834</td>\n",
       "      <td>0.042446</td>\n",
       "      <td>0.500000</td>\n",
       "      <td>1.0</td>\n",
       "      <td>0.0</td>\n",
       "    </tr>\n",
       "    <tr>\n",
       "      <th>4</th>\n",
       "      <td>0.588235</td>\n",
       "      <td>0.411765</td>\n",
       "      <td>0.115385</td>\n",
       "      <td>0.107143</td>\n",
       "      <td>0.000000</td>\n",
       "      <td>0.083333</td>\n",
       "      <td>0.053850</td>\n",
       "      <td>0.071429</td>\n",
       "      <td>0.084691</td>\n",
       "      <td>0.500000</td>\n",
       "      <td>1.0</td>\n",
       "      <td>0.0</td>\n",
       "    </tr>\n",
       "    <tr>\n",
       "      <th>...</th>\n",
       "      <td>...</td>\n",
       "      <td>...</td>\n",
       "      <td>...</td>\n",
       "      <td>...</td>\n",
       "      <td>...</td>\n",
       "      <td>...</td>\n",
       "      <td>...</td>\n",
       "      <td>...</td>\n",
       "      <td>...</td>\n",
       "      <td>...</td>\n",
       "      <td>...</td>\n",
       "      <td>...</td>\n",
       "    </tr>\n",
       "    <tr>\n",
       "      <th>19008</th>\n",
       "      <td>0.494118</td>\n",
       "      <td>0.505882</td>\n",
       "      <td>0.192308</td>\n",
       "      <td>0.357143</td>\n",
       "      <td>0.230769</td>\n",
       "      <td>0.583333</td>\n",
       "      <td>0.194766</td>\n",
       "      <td>0.061834</td>\n",
       "      <td>0.020318</td>\n",
       "      <td>0.583333</td>\n",
       "      <td>0.0</td>\n",
       "      <td>1.0</td>\n",
       "    </tr>\n",
       "    <tr>\n",
       "      <th>19009</th>\n",
       "      <td>0.529412</td>\n",
       "      <td>0.470588</td>\n",
       "      <td>0.192308</td>\n",
       "      <td>0.214286</td>\n",
       "      <td>0.153846</td>\n",
       "      <td>0.250000</td>\n",
       "      <td>0.073981</td>\n",
       "      <td>0.051173</td>\n",
       "      <td>0.061155</td>\n",
       "      <td>0.583333</td>\n",
       "      <td>0.0</td>\n",
       "      <td>1.0</td>\n",
       "    </tr>\n",
       "    <tr>\n",
       "      <th>19010</th>\n",
       "      <td>0.305882</td>\n",
       "      <td>0.694118</td>\n",
       "      <td>0.115385</td>\n",
       "      <td>0.250000</td>\n",
       "      <td>0.076923</td>\n",
       "      <td>0.333333</td>\n",
       "      <td>0.161047</td>\n",
       "      <td>0.051173</td>\n",
       "      <td>0.026755</td>\n",
       "      <td>0.500000</td>\n",
       "      <td>1.0</td>\n",
       "      <td>0.0</td>\n",
       "    </tr>\n",
       "    <tr>\n",
       "      <th>19011</th>\n",
       "      <td>0.482353</td>\n",
       "      <td>0.517647</td>\n",
       "      <td>0.115385</td>\n",
       "      <td>0.071429</td>\n",
       "      <td>0.000000</td>\n",
       "      <td>0.000000</td>\n",
       "      <td>0.161047</td>\n",
       "      <td>0.051173</td>\n",
       "      <td>0.026755</td>\n",
       "      <td>0.500000</td>\n",
       "      <td>1.0</td>\n",
       "      <td>0.0</td>\n",
       "    </tr>\n",
       "    <tr>\n",
       "      <th>19012</th>\n",
       "      <td>0.552941</td>\n",
       "      <td>0.447059</td>\n",
       "      <td>0.192308</td>\n",
       "      <td>0.071429</td>\n",
       "      <td>0.153846</td>\n",
       "      <td>0.166667</td>\n",
       "      <td>0.161047</td>\n",
       "      <td>0.072495</td>\n",
       "      <td>0.022330</td>\n",
       "      <td>0.416667</td>\n",
       "      <td>0.0</td>\n",
       "      <td>0.0</td>\n",
       "    </tr>\n",
       "  </tbody>\n",
       "</table>\n",
       "<p>19007 rows × 12 columns</p>\n",
       "</div>"
      ],
      "text/plain": [
       "       posse_bola_mandante  posse_bola_visitante  tentativas_gol_mandante  \\\n",
       "0                 0.588235              0.411765                 0.192308   \n",
       "1                 0.588235              0.411765                 0.153846   \n",
       "2                 0.588235              0.411765                 0.307692   \n",
       "3                 0.588235              0.411765                 0.461538   \n",
       "4                 0.588235              0.411765                 0.115385   \n",
       "...                    ...                   ...                      ...   \n",
       "19008             0.494118              0.505882                 0.192308   \n",
       "19009             0.529412              0.470588                 0.192308   \n",
       "19010             0.305882              0.694118                 0.115385   \n",
       "19011             0.482353              0.517647                 0.115385   \n",
       "19012             0.552941              0.447059                 0.192308   \n",
       "\n",
       "       tentativas_gol_visitante  finalizacoes_mandante  \\\n",
       "0                      0.285714               0.230769   \n",
       "1                      0.142857               0.076923   \n",
       "2                      0.142857               0.230769   \n",
       "3                      0.107143               0.538462   \n",
       "4                      0.107143               0.000000   \n",
       "...                         ...                    ...   \n",
       "19008                  0.357143               0.230769   \n",
       "19009                  0.214286               0.153846   \n",
       "19010                  0.250000               0.076923   \n",
       "19011                  0.071429               0.000000   \n",
       "19012                  0.071429               0.153846   \n",
       "\n",
       "       finalizacoes_visitante  odd_mandante  odd_empate  odd_visitante  \\\n",
       "0                    0.416667      0.114243    0.067164       0.034400   \n",
       "1                    0.166667      0.053850    0.093817       0.064575   \n",
       "2                    0.083333      0.033719    0.104478       0.124925   \n",
       "3                    0.083333      0.094112    0.061834       0.042446   \n",
       "4                    0.083333      0.053850    0.071429       0.084691   \n",
       "...                       ...           ...         ...            ...   \n",
       "19008                0.583333      0.194766    0.061834       0.020318   \n",
       "19009                0.250000      0.073981    0.051173       0.061155   \n",
       "19010                0.333333      0.161047    0.051173       0.026755   \n",
       "19011                0.000000      0.161047    0.051173       0.026755   \n",
       "19012                0.166667      0.161047    0.072495       0.022330   \n",
       "\n",
       "       diferenca_gols_primeiro_tempo  placar_primeiro_tempo_E  \\\n",
       "0                           0.500000                      1.0   \n",
       "1                           0.500000                      1.0   \n",
       "2                           0.583333                      0.0   \n",
       "3                           0.500000                      1.0   \n",
       "4                           0.500000                      1.0   \n",
       "...                              ...                      ...   \n",
       "19008                       0.583333                      0.0   \n",
       "19009                       0.583333                      0.0   \n",
       "19010                       0.500000                      1.0   \n",
       "19011                       0.500000                      1.0   \n",
       "19012                       0.416667                      0.0   \n",
       "\n",
       "       placar_primeiro_tempo_V  \n",
       "0                          0.0  \n",
       "1                          0.0  \n",
       "2                          1.0  \n",
       "3                          0.0  \n",
       "4                          0.0  \n",
       "...                        ...  \n",
       "19008                      1.0  \n",
       "19009                      1.0  \n",
       "19010                      0.0  \n",
       "19011                      0.0  \n",
       "19012                      0.0  \n",
       "\n",
       "[19007 rows x 12 columns]"
      ]
     },
     "execution_count": 27,
     "metadata": {},
     "output_type": "execute_result"
    }
   ],
   "source": [
    "X"
   ]
  },
  {
   "cell_type": "code",
   "execution_count": 28,
   "metadata": {},
   "outputs": [],
   "source": [
    "from sklearn.model_selection import train_test_split\n",
    "from sklearn import linear_model\n",
    "lm = linear_model.LinearRegression()\n",
    "X_train, X_test, y_train, y_test = train_test_split(X, y, test_size=0.30, random_state=123)"
   ]
  },
  {
   "cell_type": "code",
   "execution_count": 29,
   "metadata": {},
   "outputs": [],
   "source": [
    "from sklearn.ensemble import ExtraTreesClassifier\n",
    "from sklearn.feature_selection import SelectFromModel"
   ]
  },
  {
   "cell_type": "code",
   "execution_count": 30,
   "metadata": {},
   "outputs": [
    {
     "data": {
      "text/plain": [
       "array([0.08069385, 0.07963634, 0.0862647 , 0.08249719, 0.06621615,\n",
       "       0.06102072, 0.12004017, 0.09726785, 0.11410238, 0.04671037,\n",
       "       0.03824848, 0.12730179])"
      ]
     },
     "execution_count": 30,
     "metadata": {},
     "output_type": "execute_result"
    }
   ],
   "source": [
    "clf = ExtraTreesClassifier()\n",
    "clf = clf.fit(X, y)\n",
    "clf.feature_importances_ #Mostra a importância de cada atributo"
   ]
  },
  {
   "cell_type": "code",
   "execution_count": 31,
   "metadata": {},
   "outputs": [
    {
     "data": {
      "text/plain": [
       "Index(['posse_bola_mandante', 'posse_bola_visitante',\n",
       "       'tentativas_gol_mandante', 'tentativas_gol_visitante',\n",
       "       'finalizacoes_mandante', 'finalizacoes_visitante', 'odd_mandante',\n",
       "       'odd_empate', 'odd_visitante', 'diferenca_gols_primeiro_tempo',\n",
       "       'placar_primeiro_tempo_E', 'placar_primeiro_tempo_V'],\n",
       "      dtype='object')"
      ]
     },
     "execution_count": 31,
     "metadata": {},
     "output_type": "execute_result"
    }
   ],
   "source": [
    "X.columns"
   ]
  },
  {
   "cell_type": "code",
   "execution_count": 32,
   "metadata": {},
   "outputs": [],
   "source": [
    "##MODELOS\n",
    "from sklearn.ensemble import (AdaBoostClassifier, \n",
    "                              GradientBoostingClassifier, \n",
    "                              ExtraTreesClassifier, \n",
    "                              RandomForestClassifier)"
   ]
  },
  {
   "cell_type": "code",
   "execution_count": 33,
   "metadata": {},
   "outputs": [],
   "source": [
    "from sklearn.linear_model import LogisticRegression\n",
    "from sklearn.svm import SVC, LinearSVC\n",
    "from sklearn.neighbors import KNeighborsClassifier\n",
    "from sklearn.naive_bayes import GaussianNB\n",
    "from sklearn.linear_model import Perceptron\n",
    "from sklearn.linear_model import SGDClassifier\n",
    "from sklearn.tree import DecisionTreeClassifier"
   ]
  },
  {
   "cell_type": "code",
   "execution_count": 34,
   "metadata": {},
   "outputs": [],
   "source": [
    "##Classe modelo auxiliar\n",
    "class ModeloAuxiliar(object):\n",
    "    def __init__(self, clf, seed=123, params=None):\n",
    "        if params:\n",
    "            params['random_state'] = seed\n",
    "            self.clf = clf(**params)\n",
    "        else:\n",
    "            self.clf = clf()\n",
    "            \n",
    "    def predict(self,x):\n",
    "        return self.clf.predict(x)\n",
    "    def fit(self,x,y):\n",
    "        return self.clf.fit(x,y)\n",
    "    def feature_importances(self,x,y):\n",
    "        return self.clf.fit(x,y).feature_importances_\n",
    "    def score(self,x,y):\n",
    "        return self.clf.score(x,y)"
   ]
  },
  {
   "cell_type": "code",
   "execution_count": 35,
   "metadata": {},
   "outputs": [],
   "source": [
    "modelos = [{'nome': 'logreg', 'modelo': LogisticRegression},\n",
    "          {'nome': 'etree', 'modelo': ExtraTreesClassifier},\n",
    "          {'nome': 'gradboost', 'modelo': GradientBoostingClassifier},\n",
    "          {'nome': 'adaboost', 'modelo': AdaBoostClassifier},\n",
    "          {'nome': 'SVC', 'modelo': SVC},\n",
    "          {'nome': 'KNN', 'modelo': KNeighborsClassifier},\n",
    "          {'nome': 'GaussianNB', 'modelo': GaussianNB},\n",
    "          {'nome': 'Perceptron', 'modelo': Perceptron},\n",
    "          {'nome': 'LinearSVC', 'modelo': LinearSVC},\n",
    "          {'nome': 'SGD', 'modelo': SGDClassifier},\n",
    "          {'nome': 'DTree', 'modelo': DecisionTreeClassifier},\n",
    "          {'nome': 'RForest', 'modelo': RandomForestClassifier}\n",
    "          ]"
   ]
  },
  {
   "cell_type": "code",
   "execution_count": 36,
   "metadata": {},
   "outputs": [
    {
     "name": "stderr",
     "output_type": "stream",
     "text": [
      "/home/heuller/.local/lib/python3.8/site-packages/sklearn/linear_model/_logistic.py:762: ConvergenceWarning: lbfgs failed to converge (status=1):\n",
      "STOP: TOTAL NO. of ITERATIONS REACHED LIMIT.\n",
      "\n",
      "Increase the number of iterations (max_iter) or scale the data as shown in:\n",
      "    https://scikit-learn.org/stable/modules/preprocessing.html\n",
      "Please also refer to the documentation for alternative solver options:\n",
      "    https://scikit-learn.org/stable/modules/linear_model.html#logistic-regression\n",
      "  n_iter_i = _check_optimize_result(\n"
     ]
    }
   ],
   "source": [
    "resultados = []\n",
    "for model in modelos:\n",
    "    x = ModeloAuxiliar(clf=model['modelo'])\n",
    "    #treinar o modelo\n",
    "    x.fit(X_train, y_train)\n",
    "    #gerar predição\n",
    "    x_pred = x.predict(X_test)\n",
    "    #gerar score\n",
    "    acuracia = round(x.score(X_test, y_test)*100, 2)\n",
    "    \n",
    "    resultados.append({\n",
    "        'nome': model['nome'],\n",
    "        'score': acuracia,\n",
    "        'pred': x_pred\n",
    "    })"
   ]
  },
  {
   "cell_type": "code",
   "execution_count": 37,
   "metadata": {},
   "outputs": [],
   "source": [
    "models = pd.DataFrame(resultados)"
   ]
  },
  {
   "cell_type": "code",
   "execution_count": 38,
   "metadata": {},
   "outputs": [
    {
     "data": {
      "text/html": [
       "<div>\n",
       "<style scoped>\n",
       "    .dataframe tbody tr th:only-of-type {\n",
       "        vertical-align: middle;\n",
       "    }\n",
       "\n",
       "    .dataframe tbody tr th {\n",
       "        vertical-align: top;\n",
       "    }\n",
       "\n",
       "    .dataframe thead th {\n",
       "        text-align: right;\n",
       "    }\n",
       "</style>\n",
       "<table border=\"1\" class=\"dataframe\">\n",
       "  <thead>\n",
       "    <tr style=\"text-align: right;\">\n",
       "      <th></th>\n",
       "      <th>nome</th>\n",
       "      <th>score</th>\n",
       "    </tr>\n",
       "  </thead>\n",
       "  <tbody>\n",
       "    <tr>\n",
       "      <th>3</th>\n",
       "      <td>adaboost</td>\n",
       "      <td>64.02</td>\n",
       "    </tr>\n",
       "    <tr>\n",
       "      <th>0</th>\n",
       "      <td>logreg</td>\n",
       "      <td>64.00</td>\n",
       "    </tr>\n",
       "    <tr>\n",
       "      <th>2</th>\n",
       "      <td>gradboost</td>\n",
       "      <td>63.67</td>\n",
       "    </tr>\n",
       "    <tr>\n",
       "      <th>8</th>\n",
       "      <td>LinearSVC</td>\n",
       "      <td>63.67</td>\n",
       "    </tr>\n",
       "    <tr>\n",
       "      <th>4</th>\n",
       "      <td>SVC</td>\n",
       "      <td>62.97</td>\n",
       "    </tr>\n",
       "    <tr>\n",
       "      <th>9</th>\n",
       "      <td>SGD</td>\n",
       "      <td>61.79</td>\n",
       "    </tr>\n",
       "    <tr>\n",
       "      <th>11</th>\n",
       "      <td>RForest</td>\n",
       "      <td>61.07</td>\n",
       "    </tr>\n",
       "    <tr>\n",
       "      <th>6</th>\n",
       "      <td>GaussianNB</td>\n",
       "      <td>60.90</td>\n",
       "    </tr>\n",
       "    <tr>\n",
       "      <th>1</th>\n",
       "      <td>etree</td>\n",
       "      <td>60.67</td>\n",
       "    </tr>\n",
       "    <tr>\n",
       "      <th>7</th>\n",
       "      <td>Perceptron</td>\n",
       "      <td>58.81</td>\n",
       "    </tr>\n",
       "    <tr>\n",
       "      <th>5</th>\n",
       "      <td>KNN</td>\n",
       "      <td>58.50</td>\n",
       "    </tr>\n",
       "    <tr>\n",
       "      <th>10</th>\n",
       "      <td>DTree</td>\n",
       "      <td>52.85</td>\n",
       "    </tr>\n",
       "  </tbody>\n",
       "</table>\n",
       "</div>"
      ],
      "text/plain": [
       "          nome  score\n",
       "3     adaboost  64.02\n",
       "0       logreg  64.00\n",
       "2    gradboost  63.67\n",
       "8    LinearSVC  63.67\n",
       "4          SVC  62.97\n",
       "9          SGD  61.79\n",
       "11     RForest  61.07\n",
       "6   GaussianNB  60.90\n",
       "1        etree  60.67\n",
       "7   Perceptron  58.81\n",
       "5          KNN  58.50\n",
       "10       DTree  52.85"
      ]
     },
     "execution_count": 38,
     "metadata": {},
     "output_type": "execute_result"
    }
   ],
   "source": [
    "models[['nome', 'score']].sort_values(by='score', ascending=False)"
   ]
  },
  {
   "cell_type": "code",
   "execution_count": 39,
   "metadata": {},
   "outputs": [
    {
     "data": {
      "text/plain": [
       "\"\\nfrom sklearn.linear_model import LogisticRegression\\n##parametros determinados a partir do gridcvsearch\\nclf = LogisticRegression(random_state=123, max_iter=1000, solver='saga', penalty='l1', C=0.6158).fit(X_train,y_train)\\ny_pred = clf.predict(X_test)\\nclf.score(X_test,y_test)\\n\""
      ]
     },
     "execution_count": 39,
     "metadata": {},
     "output_type": "execute_result"
    }
   ],
   "source": [
    "'''\n",
    "from sklearn.linear_model import LogisticRegression\n",
    "##parametros determinados a partir do gridcvsearch\n",
    "clf = LogisticRegression(random_state=123, max_iter=1000, solver='saga', penalty='l1', C=0.6158).fit(X_train,y_train)\n",
    "y_pred = clf.predict(X_test)\n",
    "clf.score(X_test,y_test)\n",
    "'''"
   ]
  },
  {
   "cell_type": "code",
   "execution_count": 40,
   "metadata": {},
   "outputs": [
    {
     "data": {
      "text/plain": [
       "\"from sklearn.metrics import confusion_matrix\\nimport seaborn as sns\\n\\nsns.heatmap(confusion_matrix(y_test, y_pred), cmap='OrRd', annot=True, fmt='2.0f')\\nplt.ylabel('P R E V I S T O')\\nplt.xlabel('R E A L')\\nplt.show()\\n\""
      ]
     },
     "execution_count": 40,
     "metadata": {},
     "output_type": "execute_result"
    }
   ],
   "source": [
    "'''from sklearn.metrics import confusion_matrix\n",
    "import seaborn as sns\n",
    "\n",
    "sns.heatmap(confusion_matrix(y_test, y_pred), cmap='OrRd', annot=True, fmt='2.0f')\n",
    "plt.ylabel('P R E V I S T O')\n",
    "plt.xlabel('R E A L')\n",
    "plt.show()\n",
    "'''"
   ]
  },
  {
   "cell_type": "code",
   "execution_count": 41,
   "metadata": {},
   "outputs": [
    {
     "data": {
      "text/html": [
       "<div>\n",
       "<style scoped>\n",
       "    .dataframe tbody tr th:only-of-type {\n",
       "        vertical-align: middle;\n",
       "    }\n",
       "\n",
       "    .dataframe tbody tr th {\n",
       "        vertical-align: top;\n",
       "    }\n",
       "\n",
       "    .dataframe thead th {\n",
       "        text-align: right;\n",
       "    }\n",
       "</style>\n",
       "<table border=\"1\" class=\"dataframe\">\n",
       "  <thead>\n",
       "    <tr style=\"text-align: right;\">\n",
       "      <th></th>\n",
       "      <th>posse_bola_mandante</th>\n",
       "      <th>posse_bola_visitante</th>\n",
       "      <th>tentativas_gol_mandante</th>\n",
       "      <th>tentativas_gol_visitante</th>\n",
       "      <th>finalizacoes_mandante</th>\n",
       "      <th>finalizacoes_visitante</th>\n",
       "      <th>odd_mandante</th>\n",
       "      <th>odd_empate</th>\n",
       "      <th>odd_visitante</th>\n",
       "      <th>diferenca_gols_primeiro_tempo</th>\n",
       "      <th>placar_primeiro_tempo_E</th>\n",
       "      <th>placar_primeiro_tempo_V</th>\n",
       "    </tr>\n",
       "  </thead>\n",
       "  <tbody>\n",
       "    <tr>\n",
       "      <th>0</th>\n",
       "      <td>0.588235</td>\n",
       "      <td>0.411765</td>\n",
       "      <td>0.192308</td>\n",
       "      <td>0.285714</td>\n",
       "      <td>0.230769</td>\n",
       "      <td>0.416667</td>\n",
       "      <td>0.114243</td>\n",
       "      <td>0.067164</td>\n",
       "      <td>0.034400</td>\n",
       "      <td>0.500000</td>\n",
       "      <td>1.0</td>\n",
       "      <td>0.0</td>\n",
       "    </tr>\n",
       "    <tr>\n",
       "      <th>1</th>\n",
       "      <td>0.588235</td>\n",
       "      <td>0.411765</td>\n",
       "      <td>0.153846</td>\n",
       "      <td>0.142857</td>\n",
       "      <td>0.076923</td>\n",
       "      <td>0.166667</td>\n",
       "      <td>0.053850</td>\n",
       "      <td>0.093817</td>\n",
       "      <td>0.064575</td>\n",
       "      <td>0.500000</td>\n",
       "      <td>1.0</td>\n",
       "      <td>0.0</td>\n",
       "    </tr>\n",
       "    <tr>\n",
       "      <th>2</th>\n",
       "      <td>0.588235</td>\n",
       "      <td>0.411765</td>\n",
       "      <td>0.307692</td>\n",
       "      <td>0.142857</td>\n",
       "      <td>0.230769</td>\n",
       "      <td>0.083333</td>\n",
       "      <td>0.033719</td>\n",
       "      <td>0.104478</td>\n",
       "      <td>0.124925</td>\n",
       "      <td>0.583333</td>\n",
       "      <td>0.0</td>\n",
       "      <td>1.0</td>\n",
       "    </tr>\n",
       "    <tr>\n",
       "      <th>3</th>\n",
       "      <td>0.588235</td>\n",
       "      <td>0.411765</td>\n",
       "      <td>0.461538</td>\n",
       "      <td>0.107143</td>\n",
       "      <td>0.538462</td>\n",
       "      <td>0.083333</td>\n",
       "      <td>0.094112</td>\n",
       "      <td>0.061834</td>\n",
       "      <td>0.042446</td>\n",
       "      <td>0.500000</td>\n",
       "      <td>1.0</td>\n",
       "      <td>0.0</td>\n",
       "    </tr>\n",
       "    <tr>\n",
       "      <th>4</th>\n",
       "      <td>0.588235</td>\n",
       "      <td>0.411765</td>\n",
       "      <td>0.115385</td>\n",
       "      <td>0.107143</td>\n",
       "      <td>0.000000</td>\n",
       "      <td>0.083333</td>\n",
       "      <td>0.053850</td>\n",
       "      <td>0.071429</td>\n",
       "      <td>0.084691</td>\n",
       "      <td>0.500000</td>\n",
       "      <td>1.0</td>\n",
       "      <td>0.0</td>\n",
       "    </tr>\n",
       "    <tr>\n",
       "      <th>...</th>\n",
       "      <td>...</td>\n",
       "      <td>...</td>\n",
       "      <td>...</td>\n",
       "      <td>...</td>\n",
       "      <td>...</td>\n",
       "      <td>...</td>\n",
       "      <td>...</td>\n",
       "      <td>...</td>\n",
       "      <td>...</td>\n",
       "      <td>...</td>\n",
       "      <td>...</td>\n",
       "      <td>...</td>\n",
       "    </tr>\n",
       "    <tr>\n",
       "      <th>19008</th>\n",
       "      <td>0.494118</td>\n",
       "      <td>0.505882</td>\n",
       "      <td>0.192308</td>\n",
       "      <td>0.357143</td>\n",
       "      <td>0.230769</td>\n",
       "      <td>0.583333</td>\n",
       "      <td>0.194766</td>\n",
       "      <td>0.061834</td>\n",
       "      <td>0.020318</td>\n",
       "      <td>0.583333</td>\n",
       "      <td>0.0</td>\n",
       "      <td>1.0</td>\n",
       "    </tr>\n",
       "    <tr>\n",
       "      <th>19009</th>\n",
       "      <td>0.529412</td>\n",
       "      <td>0.470588</td>\n",
       "      <td>0.192308</td>\n",
       "      <td>0.214286</td>\n",
       "      <td>0.153846</td>\n",
       "      <td>0.250000</td>\n",
       "      <td>0.073981</td>\n",
       "      <td>0.051173</td>\n",
       "      <td>0.061155</td>\n",
       "      <td>0.583333</td>\n",
       "      <td>0.0</td>\n",
       "      <td>1.0</td>\n",
       "    </tr>\n",
       "    <tr>\n",
       "      <th>19010</th>\n",
       "      <td>0.305882</td>\n",
       "      <td>0.694118</td>\n",
       "      <td>0.115385</td>\n",
       "      <td>0.250000</td>\n",
       "      <td>0.076923</td>\n",
       "      <td>0.333333</td>\n",
       "      <td>0.161047</td>\n",
       "      <td>0.051173</td>\n",
       "      <td>0.026755</td>\n",
       "      <td>0.500000</td>\n",
       "      <td>1.0</td>\n",
       "      <td>0.0</td>\n",
       "    </tr>\n",
       "    <tr>\n",
       "      <th>19011</th>\n",
       "      <td>0.482353</td>\n",
       "      <td>0.517647</td>\n",
       "      <td>0.115385</td>\n",
       "      <td>0.071429</td>\n",
       "      <td>0.000000</td>\n",
       "      <td>0.000000</td>\n",
       "      <td>0.161047</td>\n",
       "      <td>0.051173</td>\n",
       "      <td>0.026755</td>\n",
       "      <td>0.500000</td>\n",
       "      <td>1.0</td>\n",
       "      <td>0.0</td>\n",
       "    </tr>\n",
       "    <tr>\n",
       "      <th>19012</th>\n",
       "      <td>0.552941</td>\n",
       "      <td>0.447059</td>\n",
       "      <td>0.192308</td>\n",
       "      <td>0.071429</td>\n",
       "      <td>0.153846</td>\n",
       "      <td>0.166667</td>\n",
       "      <td>0.161047</td>\n",
       "      <td>0.072495</td>\n",
       "      <td>0.022330</td>\n",
       "      <td>0.416667</td>\n",
       "      <td>0.0</td>\n",
       "      <td>0.0</td>\n",
       "    </tr>\n",
       "  </tbody>\n",
       "</table>\n",
       "<p>19007 rows × 12 columns</p>\n",
       "</div>"
      ],
      "text/plain": [
       "       posse_bola_mandante  posse_bola_visitante  tentativas_gol_mandante  \\\n",
       "0                 0.588235              0.411765                 0.192308   \n",
       "1                 0.588235              0.411765                 0.153846   \n",
       "2                 0.588235              0.411765                 0.307692   \n",
       "3                 0.588235              0.411765                 0.461538   \n",
       "4                 0.588235              0.411765                 0.115385   \n",
       "...                    ...                   ...                      ...   \n",
       "19008             0.494118              0.505882                 0.192308   \n",
       "19009             0.529412              0.470588                 0.192308   \n",
       "19010             0.305882              0.694118                 0.115385   \n",
       "19011             0.482353              0.517647                 0.115385   \n",
       "19012             0.552941              0.447059                 0.192308   \n",
       "\n",
       "       tentativas_gol_visitante  finalizacoes_mandante  \\\n",
       "0                      0.285714               0.230769   \n",
       "1                      0.142857               0.076923   \n",
       "2                      0.142857               0.230769   \n",
       "3                      0.107143               0.538462   \n",
       "4                      0.107143               0.000000   \n",
       "...                         ...                    ...   \n",
       "19008                  0.357143               0.230769   \n",
       "19009                  0.214286               0.153846   \n",
       "19010                  0.250000               0.076923   \n",
       "19011                  0.071429               0.000000   \n",
       "19012                  0.071429               0.153846   \n",
       "\n",
       "       finalizacoes_visitante  odd_mandante  odd_empate  odd_visitante  \\\n",
       "0                    0.416667      0.114243    0.067164       0.034400   \n",
       "1                    0.166667      0.053850    0.093817       0.064575   \n",
       "2                    0.083333      0.033719    0.104478       0.124925   \n",
       "3                    0.083333      0.094112    0.061834       0.042446   \n",
       "4                    0.083333      0.053850    0.071429       0.084691   \n",
       "...                       ...           ...         ...            ...   \n",
       "19008                0.583333      0.194766    0.061834       0.020318   \n",
       "19009                0.250000      0.073981    0.051173       0.061155   \n",
       "19010                0.333333      0.161047    0.051173       0.026755   \n",
       "19011                0.000000      0.161047    0.051173       0.026755   \n",
       "19012                0.166667      0.161047    0.072495       0.022330   \n",
       "\n",
       "       diferenca_gols_primeiro_tempo  placar_primeiro_tempo_E  \\\n",
       "0                           0.500000                      1.0   \n",
       "1                           0.500000                      1.0   \n",
       "2                           0.583333                      0.0   \n",
       "3                           0.500000                      1.0   \n",
       "4                           0.500000                      1.0   \n",
       "...                              ...                      ...   \n",
       "19008                       0.583333                      0.0   \n",
       "19009                       0.583333                      0.0   \n",
       "19010                       0.500000                      1.0   \n",
       "19011                       0.500000                      1.0   \n",
       "19012                       0.416667                      0.0   \n",
       "\n",
       "       placar_primeiro_tempo_V  \n",
       "0                          0.0  \n",
       "1                          0.0  \n",
       "2                          1.0  \n",
       "3                          0.0  \n",
       "4                          0.0  \n",
       "...                        ...  \n",
       "19008                      1.0  \n",
       "19009                      1.0  \n",
       "19010                      0.0  \n",
       "19011                      0.0  \n",
       "19012                      0.0  \n",
       "\n",
       "[19007 rows x 12 columns]"
      ]
     },
     "execution_count": 41,
     "metadata": {},
     "output_type": "execute_result"
    }
   ],
   "source": [
    "X"
   ]
  },
  {
   "cell_type": "code",
   "execution_count": null,
   "metadata": {},
   "outputs": [],
   "source": []
  },
  {
   "cell_type": "code",
   "execution_count": null,
   "metadata": {},
   "outputs": [],
   "source": []
  }
 ],
 "metadata": {
  "kernelspec": {
   "display_name": "Python 3",
   "language": "python",
   "name": "python3"
  },
  "language_info": {
   "codemirror_mode": {
    "name": "ipython",
    "version": 3
   },
   "file_extension": ".py",
   "mimetype": "text/x-python",
   "name": "python",
   "nbconvert_exporter": "python",
   "pygments_lexer": "ipython3",
   "version": "3.8.5"
  }
 },
 "nbformat": 4,
 "nbformat_minor": 4
}
