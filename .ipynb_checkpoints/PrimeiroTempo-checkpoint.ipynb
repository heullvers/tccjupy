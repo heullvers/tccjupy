{
 "cells": [
  {
   "cell_type": "code",
   "execution_count": 1,
   "metadata": {},
   "outputs": [],
   "source": [
    "#Importação das bibliotecas\n",
    "import pandas as pd\n",
    "import numpy as np\n",
    "import matplotlib.pyplot as plt"
   ]
  },
  {
   "cell_type": "code",
   "execution_count": 2,
   "metadata": {},
   "outputs": [],
   "source": [
    "#Importação dos dados \n",
    "dataset = pd.read_csv('../dados/dadosFirstTime.csv', low_memory=False)"
   ]
  },
  {
   "cell_type": "code",
   "execution_count": 3,
   "metadata": {},
   "outputs": [
    {
     "data": {
      "text/plain": [
       "Index(['País', 'Campeonato', 'timeMandante', 'timeVisitante', 'Posse de bolaM',\n",
       "       'Posse de bolaV', 'Tentativas de golM', 'Tentativas de golV',\n",
       "       'FinalizaçõesM', 'FinalizaçõesV', 'Chutes foraM', 'Chutes foraV',\n",
       "       'Chutes bloqueadosM', 'Chutes bloqueadosV', 'Faltas cobradasM',\n",
       "       'Faltas cobradasV', 'EscanteiosM', 'EscanteiosV', 'ImpedimentosM',\n",
       "       'ImpedimentosV', 'Defesas do goleiroM', 'Defesas do goleiroV',\n",
       "       'FaltasM', 'FaltasV', 'Cartões amarelosM', 'Cartões amarelosV',\n",
       "       'Cartões VermelhosM', 'Cartões VermelhosV', 'Total de passesM',\n",
       "       'Total de passesV', 'DesarmesM', 'DesarmesV', 'AtaquesM', 'AtaquesV',\n",
       "       'Ataques PerigososM', 'Ataques PerigososV', 'OddM', 'OddE', 'OddV',\n",
       "       'DiferencaGols', 'PlacarPrimeiroTempo', 'PlacarFinal'],\n",
       "      dtype='object')"
      ]
     },
     "execution_count": 3,
     "metadata": {},
     "output_type": "execute_result"
    }
   ],
   "source": [
    "dataset.columns"
   ]
  },
  {
   "cell_type": "code",
   "execution_count": 4,
   "metadata": {},
   "outputs": [],
   "source": [
    "dataset.drop(['País', 'Campeonato', 'timeMandante', 'timeVisitante', 'FaltasM', 'FaltasV', 'Chutes bloqueadosM',\n",
    "             'Chutes bloqueadosV'], axis=1, inplace=True)"
   ]
  },
  {
   "cell_type": "code",
   "execution_count": 5,
   "metadata": {},
   "outputs": [],
   "source": [
    "X = dataset"
   ]
  },
  {
   "cell_type": "code",
   "execution_count": 6,
   "metadata": {},
   "outputs": [],
   "source": [
    "##Somente duas classes\n",
    "#X = X.loc[X['PlacarFinal'] != 'E']"
   ]
  },
  {
   "cell_type": "code",
   "execution_count": 7,
   "metadata": {},
   "outputs": [
    {
     "data": {
      "text/plain": [
       "array(['D', 'V', 'E'], dtype=object)"
      ]
     },
     "execution_count": 7,
     "metadata": {},
     "output_type": "execute_result"
    }
   ],
   "source": [
    "X.PlacarFinal.unique()"
   ]
  },
  {
   "cell_type": "code",
   "execution_count": 8,
   "metadata": {},
   "outputs": [
    {
     "data": {
      "text/plain": [
       "DesarmesV              14903\n",
       "DesarmesM              14903\n",
       "Total de passesV       14052\n",
       "Total de passesM       14052\n",
       "AtaquesV               12383\n",
       "AtaquesM               12383\n",
       "Ataques PerigososV     12382\n",
       "Ataques PerigososM     12382\n",
       "Faltas cobradasM        4775\n",
       "Faltas cobradasV        4775\n",
       "Posse de bolaM          2310\n",
       "Posse de bolaV          2310\n",
       "ImpedimentosV           1944\n",
       "ImpedimentosM           1944\n",
       "Chutes foraM            1879\n",
       "Chutes foraV            1879\n",
       "EscanteiosV             1875\n",
       "EscanteiosM             1875\n",
       "Defesas do goleiroV     1798\n",
       "Defesas do goleiroM     1798\n",
       "Tentativas de golV      1794\n",
       "Tentativas de golM      1794\n",
       "FinalizaçõesM           1793\n",
       "FinalizaçõesV           1793\n",
       "PlacarFinal                0\n",
       "PlacarPrimeiroTempo        0\n",
       "Cartões amarelosV          0\n",
       "Cartões VermelhosM         0\n",
       "Cartões VermelhosV         0\n",
       "OddM                       0\n",
       "OddE                       0\n",
       "OddV                       0\n",
       "DiferencaGols              0\n",
       "Cartões amarelosM          0\n",
       "dtype: int64"
      ]
     },
     "execution_count": 8,
     "metadata": {},
     "output_type": "execute_result"
    }
   ],
   "source": [
    "X.isnull().sum().sort_values(ascending=False)"
   ]
  },
  {
   "cell_type": "code",
   "execution_count": 9,
   "metadata": {},
   "outputs": [],
   "source": [
    "novos_titulos = {\n",
    "    'DesarmesM' : 'desarmes_mandante',\n",
    "    'DesarmesV' : 'desarmes_visitante', \n",
    "    'Total de passesM' : 'total_passes_mandante',\n",
    "    'Total de passesV' : 'total_passes_visitante',\n",
    "    'AtaquesV' : 'ataques_visitante',\n",
    "    'AtaquesM' : 'ataques_mandante',      \n",
    "    'Ataques PerigososV' : 'ataques_perigosos_visitante',   \n",
    "    'Ataques PerigososM' : 'ataques_perigosos_mandante',   \n",
    "    'Chutes bloqueadosV' : 'chutes_bloqueados_visitante',    \n",
    "    'Chutes bloqueadosM' : 'chutes_bloqueados_mandante',    \n",
    "    'Faltas cobradasV' : 'faltas_cobradas_visitante',      \n",
    "    'Faltas cobradasM': 'faltas_cobradas_mandante',     \n",
    "    'Posse de bolaM' : 'posse_bola_mandante',       \n",
    "    'Posse de bolaV' : 'posse_bola_visitante',      \n",
    "    'ImpedimentosM'  : 'impedimentos_mandante',    \n",
    "    'ImpedimentosV'  : 'impedimentos_visitante',        \n",
    "    'Chutes foraV' : 'chutes_fora_visitante',          \n",
    "    'Chutes foraM' : 'chutes_fora_mandante',         \n",
    "    'EscanteiosM' : 'escanteios_mandante',           \n",
    "    'EscanteiosV' : 'escanteios_visitante',            \n",
    "    'Defesas do goleiroV' : 'defesas_goleiro_visitante',     \n",
    "    'Defesas do goleiroM' : 'defesas_goleiro_mandante',    \n",
    "    'Tentativas de golV'  : 'tentativas_gol_visitante',    \n",
    "    'Tentativas de golM'  : 'tentativas_gol_mandante',    \n",
    "    'FinalizaçõesV'  : 'finalizacoes_visitante',         \n",
    "    'FinalizaçõesM'  : 'finalizacoes_mandante',        \n",
    "    'DiferencaGols'  : 'diferenca_gols_primeiro_tempo',           \n",
    "    'Cartões amarelosM' : 'cartoes_amarelos_mandante',     \n",
    "    'Cartões amarelosV' : 'cartoes_amarelos_visitante',        \n",
    "    'Cartões VermelhosM': 'cartoes_vermelhos_mandante',       \n",
    "    'Cartões VermelhosV': 'cartoes_vermelhos_visitante',       \n",
    "    'OddM': 'odd_mandante',                      \n",
    "    'OddE': 'odd_empate',                     \n",
    "    'OddV': 'odd_visitante',                      \n",
    "    'PlacarPrimeiroTempo': 'placar_primeiro_tempo',\n",
    "}"
   ]
  },
  {
   "cell_type": "code",
   "execution_count": 10,
   "metadata": {},
   "outputs": [],
   "source": [
    "X = X.rename(columns=novos_titulos)"
   ]
  },
  {
   "cell_type": "code",
   "execution_count": 11,
   "metadata": {},
   "outputs": [
    {
     "data": {
      "text/plain": [
       "\"\\nX.drop(['desarmes_mandante', 'desarmes_visitante', 'total_passes_mandante', 'total_passes_visitante',\\n       'ataques_mandante', 'ataques_visitante', 'ataques_perigosos_mandante', 'ataques_perigosos_visitante'], axis=1, inplace=True)\\n    \""
      ]
     },
     "execution_count": 11,
     "metadata": {},
     "output_type": "execute_result"
    }
   ],
   "source": [
    "'''\n",
    "X.drop(['desarmes_mandante', 'desarmes_visitante', 'total_passes_mandante', 'total_passes_visitante',\n",
    "       'ataques_mandante', 'ataques_visitante', 'ataques_perigosos_mandante', 'ataques_perigosos_visitante'], axis=1, inplace=True)\n",
    "    '''"
   ]
  },
  {
   "cell_type": "markdown",
   "metadata": {},
   "source": [
    "### Tratamento dados nulos"
   ]
  },
  {
   "cell_type": "code",
   "execution_count": 12,
   "metadata": {},
   "outputs": [],
   "source": [
    "mediana_posse_bola_mandante = X.posse_bola_mandante.median()\n",
    "mediana_posse_bola_visitante = X.posse_bola_visitante.median()\n",
    "\n",
    "\n",
    "mediana_tentativas_gol_mandante = X.tentativas_gol_mandante.median()\n",
    "mediana_tentativas_gol_visitante = X.tentativas_gol_visitante.median()\n",
    "\n",
    "mediana_finalizacoes_mandante = X.finalizacoes_mandante.median()\n",
    "mediana_finalizacoes_visitante = X.finalizacoes_visitante.median()\n",
    "\n",
    "mediana_chutes_fora_mandante = X.chutes_fora_mandante.median()\n",
    "mediana_chutes_fora_visitante = X.chutes_fora_visitante.median()\n",
    "\n",
    "mediana_faltas_cobradas_mandante = X.faltas_cobradas_mandante.median()\n",
    "mediana_faltas_cobradas_visitante = X.faltas_cobradas_visitante.median()\n",
    "\n",
    "mediana_escanteios_mandante = X.escanteios_mandante.median()\n",
    "mediana_escanteios_visitante = X.escanteios_visitante.median()\n",
    "\n",
    "mediana_impedimentos_mandante = X.impedimentos_mandante.median()\n",
    "mediana_impedimentos_visitante = X.impedimentos_visitante.median()\n",
    "\n",
    "mediana_defesas_goleiro_mandante = X.defesas_goleiro_mandante.median()\n",
    "mediana_defesas_goleiro_visitante = X.defesas_goleiro_visitante.median()\n",
    "\n",
    "########\n",
    "\n",
    "mediana_desarmes_mandante = X.desarmes_mandante.median()\n",
    "mediana_desarmes_visitante = X.desarmes_visitante.median()\n",
    "\n",
    "mediana_total_passes_mandante = X.total_passes_mandante.median()\n",
    "mediana_total_passes_visitante = X.total_passes_visitante.median()\n",
    "\n",
    "mediana_ataques_mandante = X.ataques_mandante.median()\n",
    "mediana_ataques_visitante = X.ataques_visitante.median()\n",
    "\n",
    "mediana_ataques_perigosos_mandante = X.ataques_perigosos_mandante.median()\n",
    "mediana_ataques_perigosos_visitante = X.ataques_perigosos_visitante.median()\n"
   ]
  },
  {
   "cell_type": "code",
   "execution_count": 13,
   "metadata": {},
   "outputs": [],
   "source": [
    "X.posse_bola_mandante.fillna(mediana_posse_bola_mandante, inplace=True)\n",
    "X.posse_bola_visitante.fillna(mediana_posse_bola_visitante,inplace=True)\n",
    "\n",
    "X.tentativas_gol_mandante.fillna(mediana_tentativas_gol_mandante,inplace=True)\n",
    "X.tentativas_gol_visitante.fillna(mediana_tentativas_gol_visitante,inplace=True)\n",
    "\n",
    "X.finalizacoes_mandante.fillna(mediana_finalizacoes_mandante,inplace=True)\n",
    "X.finalizacoes_visitante.fillna(mediana_finalizacoes_visitante,inplace=True)\n",
    "\n",
    "X.chutes_fora_mandante.fillna(mediana_chutes_fora_mandante,inplace=True)\n",
    "X.chutes_fora_visitante.fillna(mediana_chutes_fora_visitante,inplace=True)\n",
    "\n",
    "X.faltas_cobradas_mandante.fillna(mediana_faltas_cobradas_mandante,inplace=True)\n",
    "X.faltas_cobradas_visitante.fillna(mediana_faltas_cobradas_visitante,inplace=True)\n",
    "\n",
    "X.escanteios_mandante.fillna(mediana_escanteios_mandante,inplace=True)\n",
    "X.escanteios_visitante.fillna(mediana_escanteios_visitante,inplace=True)\n",
    "\n",
    "X.impedimentos_mandante.fillna(mediana_impedimentos_mandante,inplace=True)\n",
    "X.impedimentos_visitante.fillna(mediana_impedimentos_visitante,inplace=True)\n",
    "\n",
    "X.defesas_goleiro_mandante.fillna(mediana_defesas_goleiro_mandante,inplace=True)\n",
    "X.defesas_goleiro_visitante.fillna(mediana_defesas_goleiro_visitante,inplace=True)\n",
    "\n",
    "########\n",
    "\n",
    "X.desarmes_mandante.fillna(mediana_desarmes_mandante,inplace=True)\n",
    "X.desarmes_visitante.fillna(mediana_desarmes_visitante,inplace=True)\n",
    "\n",
    "X.total_passes_mandante.fillna(mediana_total_passes_mandante,inplace=True)\n",
    "X.total_passes_visitante.fillna(mediana_total_passes_visitante,inplace=True)\n",
    "\n",
    "X.ataques_mandante.fillna(mediana_ataques_mandante,inplace=True)\n",
    "X.ataques_visitante.fillna(mediana_ataques_visitante,inplace=True)\n",
    "\n",
    "X.ataques_perigosos_mandante.fillna(mediana_ataques_perigosos_mandante,inplace=True)\n",
    "X.ataques_perigosos_visitante.fillna(mediana_ataques_perigosos_visitante,inplace=True)\n"
   ]
  },
  {
   "cell_type": "code",
   "execution_count": 14,
   "metadata": {},
   "outputs": [],
   "source": [
    "#X = X.dropna()"
   ]
  },
  {
   "cell_type": "code",
   "execution_count": 15,
   "metadata": {},
   "outputs": [
    {
     "data": {
      "text/plain": [
       "PlacarFinal                      0\n",
       "faltas_cobradas_mandante         0\n",
       "defesas_goleiro_mandante         0\n",
       "impedimentos_visitante           0\n",
       "impedimentos_mandante            0\n",
       "escanteios_visitante             0\n",
       "escanteios_mandante              0\n",
       "faltas_cobradas_visitante        0\n",
       "chutes_fora_visitante            0\n",
       "placar_primeiro_tempo            0\n",
       "chutes_fora_mandante             0\n",
       "finalizacoes_visitante           0\n",
       "finalizacoes_mandante            0\n",
       "tentativas_gol_visitante         0\n",
       "tentativas_gol_mandante          0\n",
       "posse_bola_visitante             0\n",
       "defesas_goleiro_visitante        0\n",
       "cartoes_amarelos_mandante        0\n",
       "cartoes_amarelos_visitante       0\n",
       "cartoes_vermelhos_mandante       0\n",
       "cartoes_vermelhos_visitante      0\n",
       "total_passes_mandante            0\n",
       "total_passes_visitante           0\n",
       "desarmes_mandante                0\n",
       "desarmes_visitante               0\n",
       "ataques_mandante                 0\n",
       "ataques_visitante                0\n",
       "ataques_perigosos_mandante       0\n",
       "ataques_perigosos_visitante      0\n",
       "odd_mandante                     0\n",
       "odd_empate                       0\n",
       "odd_visitante                    0\n",
       "diferenca_gols_primeiro_tempo    0\n",
       "posse_bola_mandante              0\n",
       "dtype: int64"
      ]
     },
     "execution_count": 15,
     "metadata": {},
     "output_type": "execute_result"
    }
   ],
   "source": [
    "X.isnull().sum().sort_values(ascending=False)"
   ]
  },
  {
   "cell_type": "markdown",
   "metadata": {},
   "source": [
    "### Tratamento outliers"
   ]
  },
  {
   "cell_type": "code",
   "execution_count": 16,
   "metadata": {},
   "outputs": [
    {
     "data": {
      "text/plain": [
       "array([52., 34., 59., 42., 56., 46., 49., 68., 43., 62., 24., 55., 63.,\n",
       "       66., 61., 36., 45., 57., 48., 37., 54., 70., 65., 60., 47., 58.,\n",
       "       31., 41., 50., 67., 53., 51., 64., 38., 35., 39., 40., 44., 76.,\n",
       "       32., 73., 71., 74., 75., 26., 72., 69., 29., 27., 33., 79., 30.,\n",
       "        0., 28., 78., 81., 77., 23., 25., 80., 83., 21., 82., 22., 18.,\n",
       "       20., 87., 85., 84., 19., 17., 86.,  2.])"
      ]
     },
     "execution_count": 16,
     "metadata": {},
     "output_type": "execute_result"
    }
   ],
   "source": [
    "X.posse_bola_mandante.unique()"
   ]
  },
  {
   "cell_type": "code",
   "execution_count": 17,
   "metadata": {},
   "outputs": [],
   "source": [
    "#quando posse de bola do mandante foi igual a zero, a do visitante também foi\n",
    "remove_posse =  X.loc[X['posse_bola_mandante'] == 0]\n",
    "X.drop(remove_posse.index, inplace=True)"
   ]
  },
  {
   "cell_type": "code",
   "execution_count": 18,
   "metadata": {},
   "outputs": [
    {
     "data": {
      "text/plain": [
       "array([ 5.,  1.,  0.,  2.,  6.,  3.,  4.,  7.,  8.,  9., 10., -1.])"
      ]
     },
     "execution_count": 18,
     "metadata": {},
     "output_type": "execute_result"
    }
   ],
   "source": [
    "X.defesas_goleiro_mandante.unique()"
   ]
  },
  {
   "cell_type": "code",
   "execution_count": 19,
   "metadata": {},
   "outputs": [],
   "source": [
    "#X.loc[X['defesas_goleiro_mandante'] == -1].defesas_goleiro_mandante"
   ]
  },
  {
   "cell_type": "code",
   "execution_count": 20,
   "metadata": {},
   "outputs": [],
   "source": [
    "#remoção da defesa do goleiro negativa\n",
    "#X.drop(12208, inplace=True)"
   ]
  },
  {
   "cell_type": "code",
   "execution_count": 21,
   "metadata": {},
   "outputs": [
    {
     "data": {
      "text/plain": [
       "posse_bola_mandante              float64\n",
       "posse_bola_visitante             float64\n",
       "tentativas_gol_mandante          float64\n",
       "tentativas_gol_visitante         float64\n",
       "finalizacoes_mandante            float64\n",
       "finalizacoes_visitante           float64\n",
       "chutes_fora_mandante             float64\n",
       "chutes_fora_visitante            float64\n",
       "faltas_cobradas_mandante         float64\n",
       "faltas_cobradas_visitante        float64\n",
       "escanteios_mandante              float64\n",
       "escanteios_visitante             float64\n",
       "impedimentos_mandante            float64\n",
       "impedimentos_visitante           float64\n",
       "defesas_goleiro_mandante         float64\n",
       "defesas_goleiro_visitante        float64\n",
       "cartoes_amarelos_mandante          int64\n",
       "cartoes_amarelos_visitante         int64\n",
       "cartoes_vermelhos_mandante         int64\n",
       "cartoes_vermelhos_visitante        int64\n",
       "total_passes_mandante            float64\n",
       "total_passes_visitante           float64\n",
       "desarmes_mandante                float64\n",
       "desarmes_visitante               float64\n",
       "ataques_mandante                 float64\n",
       "ataques_visitante                float64\n",
       "ataques_perigosos_mandante       float64\n",
       "ataques_perigosos_visitante      float64\n",
       "odd_mandante                     float64\n",
       "odd_empate                       float64\n",
       "odd_visitante                    float64\n",
       "diferenca_gols_primeiro_tempo      int64\n",
       "placar_primeiro_tempo             object\n",
       "PlacarFinal                       object\n",
       "dtype: object"
      ]
     },
     "execution_count": 21,
     "metadata": {},
     "output_type": "execute_result"
    }
   ],
   "source": [
    "X.dtypes"
   ]
  },
  {
   "cell_type": "code",
   "execution_count": 22,
   "metadata": {},
   "outputs": [],
   "source": [
    "X['posse_bola'] = 0\n",
    "X['tentativas_gol'] = 0\n",
    "X['finalizacoes'] = 0\n",
    "X['chutes_fora'] = 0\n",
    "X['faltas_cobradas'] = 0\n",
    "X['escanteios'] = 0\n",
    "X['impedimentos'] = 0\n",
    "X['defesas_goleiro'] = 0\n",
    "X['cartoes_amarelos'] = 0\n",
    "X['cartoes_vermelhos'] = 0\n",
    "\n",
    "X['desarmes'] = 0\n",
    "X['total_passes'] = 0\n",
    "X['ataques'] = 0\n",
    "X['ataques_perigosos'] = 0\n",
    "\n",
    "for idx, _ in X.iterrows():\n",
    "        X['posse_bola'].at[idx] = X['posse_bola_mandante'].at[idx] - X['posse_bola_visitante'].at[idx]\n",
    "        X['tentativas_gol'].at[idx] = X['tentativas_gol_mandante'].at[idx] - X['tentativas_gol_visitante'].at[idx]\n",
    "        X['finalizacoes'].at[idx] = X['finalizacoes_mandante'].at[idx] - X['finalizacoes_visitante'].at[idx]\n",
    "        X['chutes_fora'].at[idx] = X['chutes_fora_mandante'].at[idx] - X['chutes_fora_visitante'].at[idx]\n",
    "        X['faltas_cobradas'].at[idx] = X['faltas_cobradas_mandante'].at[idx] - X['faltas_cobradas_visitante'].at[idx]\n",
    "        X['escanteios'].at[idx] = X['escanteios_mandante'].at[idx] - X['escanteios_visitante'].at[idx]\n",
    "        X['impedimentos'].at[idx] = X['impedimentos_mandante'].at[idx] - X['impedimentos_visitante'].at[idx]\n",
    "        X['defesas_goleiro'].at[idx] = X['defesas_goleiro_mandante'].at[idx] - X['defesas_goleiro_visitante'].at[idx]\n",
    "        X['cartoes_amarelos'].at[idx] = X['cartoes_amarelos_mandante'].at[idx] - X['cartoes_amarelos_visitante'].at[idx]\n",
    "        X['cartoes_vermelhos'].at[idx] = X['cartoes_vermelhos_mandante'].at[idx] - X['cartoes_vermelhos_visitante'].at[idx]\n",
    "        \n",
    "        X['desarmes'].at[idx] = X['desarmes_mandante'].at[idx] - X['desarmes_visitante'].at[idx]\n",
    "        X['total_passes'].at[idx] = X['total_passes_mandante'].at[idx] - X['total_passes_visitante'].at[idx]\n",
    "        X['ataques'].at[idx] = X['ataques_mandante'].at[idx] - X['ataques_visitante'].at[idx]\n",
    "        X['ataques_perigosos'].at[idx] = X['ataques_perigosos_mandante'].at[idx] - X['ataques_perigosos_visitante'].at[idx]"
   ]
  },
  {
   "cell_type": "code",
   "execution_count": 23,
   "metadata": {},
   "outputs": [],
   "source": [
    "X.drop(['posse_bola_mandante', 'posse_bola_visitante', 'tentativas_gol_mandante', 'tentativas_gol_visitante',\n",
    "       'finalizacoes_mandante', 'finalizacoes_visitante', 'chutes_fora_mandante', 'chutes_fora_visitante',\n",
    "       'faltas_cobradas_mandante', 'faltas_cobradas_visitante', 'escanteios_mandante', 'escanteios_visitante',\n",
    "       'impedimentos_mandante', 'impedimentos_visitante', 'defesas_goleiro_mandante', 'defesas_goleiro_visitante',\n",
    "       'cartoes_amarelos_mandante', 'cartoes_amarelos_visitante', 'cartoes_vermelhos_mandante', 'cartoes_vermelhos_visitante',\n",
    "       'desarmes_mandante', 'desarmes_visitante', 'total_passes_mandante', 'total_passes_visitante', \n",
    "        'ataques_mandante', 'ataques_visitante', 'ataques_perigosos_mandante', 'ataques_perigosos_visitante'\n",
    "       \n",
    "       ], axis=1, inplace=True)"
   ]
  },
  {
   "cell_type": "code",
   "execution_count": 24,
   "metadata": {},
   "outputs": [
    {
     "data": {
      "text/html": [
       "<div>\n",
       "<style scoped>\n",
       "    .dataframe tbody tr th:only-of-type {\n",
       "        vertical-align: middle;\n",
       "    }\n",
       "\n",
       "    .dataframe tbody tr th {\n",
       "        vertical-align: top;\n",
       "    }\n",
       "\n",
       "    .dataframe thead th {\n",
       "        text-align: right;\n",
       "    }\n",
       "</style>\n",
       "<table border=\"1\" class=\"dataframe\">\n",
       "  <thead>\n",
       "    <tr style=\"text-align: right;\">\n",
       "      <th></th>\n",
       "      <th>odd_mandante</th>\n",
       "      <th>odd_empate</th>\n",
       "      <th>odd_visitante</th>\n",
       "      <th>diferenca_gols_primeiro_tempo</th>\n",
       "      <th>placar_primeiro_tempo</th>\n",
       "      <th>PlacarFinal</th>\n",
       "      <th>posse_bola</th>\n",
       "      <th>tentativas_gol</th>\n",
       "      <th>finalizacoes</th>\n",
       "      <th>chutes_fora</th>\n",
       "      <th>faltas_cobradas</th>\n",
       "      <th>escanteios</th>\n",
       "      <th>impedimentos</th>\n",
       "      <th>defesas_goleiro</th>\n",
       "      <th>cartoes_amarelos</th>\n",
       "      <th>cartoes_vermelhos</th>\n",
       "      <th>desarmes</th>\n",
       "      <th>total_passes</th>\n",
       "      <th>ataques</th>\n",
       "      <th>ataques_perigosos</th>\n",
       "    </tr>\n",
       "  </thead>\n",
       "  <tbody>\n",
       "    <tr>\n",
       "      <th>0</th>\n",
       "      <td>3.40</td>\n",
       "      <td>2.25</td>\n",
       "      <td>3.00</td>\n",
       "      <td>0</td>\n",
       "      <td>E</td>\n",
       "      <td>D</td>\n",
       "      <td>4</td>\n",
       "      <td>-3</td>\n",
       "      <td>-2</td>\n",
       "      <td>-1</td>\n",
       "      <td>0</td>\n",
       "      <td>-4</td>\n",
       "      <td>0</td>\n",
       "      <td>2</td>\n",
       "      <td>0</td>\n",
       "      <td>0</td>\n",
       "      <td>-1</td>\n",
       "      <td>20</td>\n",
       "      <td>4</td>\n",
       "      <td>5</td>\n",
       "    </tr>\n",
       "    <tr>\n",
       "      <th>1</th>\n",
       "      <td>2.20</td>\n",
       "      <td>2.50</td>\n",
       "      <td>4.50</td>\n",
       "      <td>0</td>\n",
       "      <td>E</td>\n",
       "      <td>V</td>\n",
       "      <td>4</td>\n",
       "      <td>0</td>\n",
       "      <td>-1</td>\n",
       "      <td>1</td>\n",
       "      <td>0</td>\n",
       "      <td>2</td>\n",
       "      <td>0</td>\n",
       "      <td>1</td>\n",
       "      <td>0</td>\n",
       "      <td>0</td>\n",
       "      <td>-1</td>\n",
       "      <td>20</td>\n",
       "      <td>4</td>\n",
       "      <td>5</td>\n",
       "    </tr>\n",
       "    <tr>\n",
       "      <th>2</th>\n",
       "      <td>1.80</td>\n",
       "      <td>2.60</td>\n",
       "      <td>7.50</td>\n",
       "      <td>1</td>\n",
       "      <td>V</td>\n",
       "      <td>V</td>\n",
       "      <td>4</td>\n",
       "      <td>4</td>\n",
       "      <td>2</td>\n",
       "      <td>2</td>\n",
       "      <td>0</td>\n",
       "      <td>0</td>\n",
       "      <td>0</td>\n",
       "      <td>-1</td>\n",
       "      <td>1</td>\n",
       "      <td>0</td>\n",
       "      <td>-1</td>\n",
       "      <td>20</td>\n",
       "      <td>4</td>\n",
       "      <td>5</td>\n",
       "    </tr>\n",
       "    <tr>\n",
       "      <th>3</th>\n",
       "      <td>3.00</td>\n",
       "      <td>2.20</td>\n",
       "      <td>3.40</td>\n",
       "      <td>0</td>\n",
       "      <td>E</td>\n",
       "      <td>D</td>\n",
       "      <td>4</td>\n",
       "      <td>9</td>\n",
       "      <td>6</td>\n",
       "      <td>3</td>\n",
       "      <td>0</td>\n",
       "      <td>2</td>\n",
       "      <td>0</td>\n",
       "      <td>-6</td>\n",
       "      <td>-1</td>\n",
       "      <td>0</td>\n",
       "      <td>-1</td>\n",
       "      <td>20</td>\n",
       "      <td>4</td>\n",
       "      <td>5</td>\n",
       "    </tr>\n",
       "    <tr>\n",
       "      <th>4</th>\n",
       "      <td>2.20</td>\n",
       "      <td>2.29</td>\n",
       "      <td>5.50</td>\n",
       "      <td>0</td>\n",
       "      <td>E</td>\n",
       "      <td>E</td>\n",
       "      <td>4</td>\n",
       "      <td>0</td>\n",
       "      <td>-1</td>\n",
       "      <td>1</td>\n",
       "      <td>0</td>\n",
       "      <td>-1</td>\n",
       "      <td>0</td>\n",
       "      <td>1</td>\n",
       "      <td>0</td>\n",
       "      <td>0</td>\n",
       "      <td>-1</td>\n",
       "      <td>20</td>\n",
       "      <td>4</td>\n",
       "      <td>5</td>\n",
       "    </tr>\n",
       "    <tr>\n",
       "      <th>...</th>\n",
       "      <td>...</td>\n",
       "      <td>...</td>\n",
       "      <td>...</td>\n",
       "      <td>...</td>\n",
       "      <td>...</td>\n",
       "      <td>...</td>\n",
       "      <td>...</td>\n",
       "      <td>...</td>\n",
       "      <td>...</td>\n",
       "      <td>...</td>\n",
       "      <td>...</td>\n",
       "      <td>...</td>\n",
       "      <td>...</td>\n",
       "      <td>...</td>\n",
       "      <td>...</td>\n",
       "      <td>...</td>\n",
       "      <td>...</td>\n",
       "      <td>...</td>\n",
       "      <td>...</td>\n",
       "      <td>...</td>\n",
       "    </tr>\n",
       "    <tr>\n",
       "      <th>19008</th>\n",
       "      <td>5.00</td>\n",
       "      <td>2.20</td>\n",
       "      <td>2.30</td>\n",
       "      <td>1</td>\n",
       "      <td>V</td>\n",
       "      <td>D</td>\n",
       "      <td>-12</td>\n",
       "      <td>-5</td>\n",
       "      <td>-4</td>\n",
       "      <td>-1</td>\n",
       "      <td>2</td>\n",
       "      <td>-8</td>\n",
       "      <td>1</td>\n",
       "      <td>5</td>\n",
       "      <td>-1</td>\n",
       "      <td>0</td>\n",
       "      <td>3</td>\n",
       "      <td>20</td>\n",
       "      <td>-5</td>\n",
       "      <td>-27</td>\n",
       "    </tr>\n",
       "    <tr>\n",
       "      <th>19009</th>\n",
       "      <td>2.60</td>\n",
       "      <td>2.10</td>\n",
       "      <td>4.33</td>\n",
       "      <td>1</td>\n",
       "      <td>V</td>\n",
       "      <td>V</td>\n",
       "      <td>-6</td>\n",
       "      <td>-1</td>\n",
       "      <td>-1</td>\n",
       "      <td>0</td>\n",
       "      <td>-5</td>\n",
       "      <td>-1</td>\n",
       "      <td>0</td>\n",
       "      <td>2</td>\n",
       "      <td>0</td>\n",
       "      <td>0</td>\n",
       "      <td>10</td>\n",
       "      <td>20</td>\n",
       "      <td>-9</td>\n",
       "      <td>-7</td>\n",
       "    </tr>\n",
       "    <tr>\n",
       "      <th>19010</th>\n",
       "      <td>4.33</td>\n",
       "      <td>2.10</td>\n",
       "      <td>2.62</td>\n",
       "      <td>0</td>\n",
       "      <td>E</td>\n",
       "      <td>E</td>\n",
       "      <td>-44</td>\n",
       "      <td>-4</td>\n",
       "      <td>-3</td>\n",
       "      <td>-1</td>\n",
       "      <td>-2</td>\n",
       "      <td>-2</td>\n",
       "      <td>2</td>\n",
       "      <td>3</td>\n",
       "      <td>1</td>\n",
       "      <td>1</td>\n",
       "      <td>2</td>\n",
       "      <td>20</td>\n",
       "      <td>-12</td>\n",
       "      <td>-16</td>\n",
       "    </tr>\n",
       "    <tr>\n",
       "      <th>19011</th>\n",
       "      <td>4.33</td>\n",
       "      <td>2.10</td>\n",
       "      <td>2.62</td>\n",
       "      <td>0</td>\n",
       "      <td>E</td>\n",
       "      <td>V</td>\n",
       "      <td>-14</td>\n",
       "      <td>1</td>\n",
       "      <td>0</td>\n",
       "      <td>1</td>\n",
       "      <td>-2</td>\n",
       "      <td>3</td>\n",
       "      <td>0</td>\n",
       "      <td>0</td>\n",
       "      <td>-2</td>\n",
       "      <td>0</td>\n",
       "      <td>-2</td>\n",
       "      <td>20</td>\n",
       "      <td>-8</td>\n",
       "      <td>17</td>\n",
       "    </tr>\n",
       "    <tr>\n",
       "      <th>19012</th>\n",
       "      <td>4.33</td>\n",
       "      <td>2.30</td>\n",
       "      <td>2.40</td>\n",
       "      <td>-1</td>\n",
       "      <td>D</td>\n",
       "      <td>D</td>\n",
       "      <td>-2</td>\n",
       "      <td>3</td>\n",
       "      <td>0</td>\n",
       "      <td>3</td>\n",
       "      <td>1</td>\n",
       "      <td>-3</td>\n",
       "      <td>2</td>\n",
       "      <td>-1</td>\n",
       "      <td>-3</td>\n",
       "      <td>0</td>\n",
       "      <td>-2</td>\n",
       "      <td>20</td>\n",
       "      <td>-4</td>\n",
       "      <td>3</td>\n",
       "    </tr>\n",
       "  </tbody>\n",
       "</table>\n",
       "<p>19008 rows × 20 columns</p>\n",
       "</div>"
      ],
      "text/plain": [
       "       odd_mandante  odd_empate  odd_visitante  diferenca_gols_primeiro_tempo  \\\n",
       "0              3.40        2.25           3.00                              0   \n",
       "1              2.20        2.50           4.50                              0   \n",
       "2              1.80        2.60           7.50                              1   \n",
       "3              3.00        2.20           3.40                              0   \n",
       "4              2.20        2.29           5.50                              0   \n",
       "...             ...         ...            ...                            ...   \n",
       "19008          5.00        2.20           2.30                              1   \n",
       "19009          2.60        2.10           4.33                              1   \n",
       "19010          4.33        2.10           2.62                              0   \n",
       "19011          4.33        2.10           2.62                              0   \n",
       "19012          4.33        2.30           2.40                             -1   \n",
       "\n",
       "      placar_primeiro_tempo PlacarFinal  posse_bola  tentativas_gol  \\\n",
       "0                         E           D           4              -3   \n",
       "1                         E           V           4               0   \n",
       "2                         V           V           4               4   \n",
       "3                         E           D           4               9   \n",
       "4                         E           E           4               0   \n",
       "...                     ...         ...         ...             ...   \n",
       "19008                     V           D         -12              -5   \n",
       "19009                     V           V          -6              -1   \n",
       "19010                     E           E         -44              -4   \n",
       "19011                     E           V         -14               1   \n",
       "19012                     D           D          -2               3   \n",
       "\n",
       "       finalizacoes  chutes_fora  faltas_cobradas  escanteios  impedimentos  \\\n",
       "0                -2           -1                0          -4             0   \n",
       "1                -1            1                0           2             0   \n",
       "2                 2            2                0           0             0   \n",
       "3                 6            3                0           2             0   \n",
       "4                -1            1                0          -1             0   \n",
       "...             ...          ...              ...         ...           ...   \n",
       "19008            -4           -1                2          -8             1   \n",
       "19009            -1            0               -5          -1             0   \n",
       "19010            -3           -1               -2          -2             2   \n",
       "19011             0            1               -2           3             0   \n",
       "19012             0            3                1          -3             2   \n",
       "\n",
       "       defesas_goleiro  cartoes_amarelos  cartoes_vermelhos  desarmes  \\\n",
       "0                    2                 0                  0        -1   \n",
       "1                    1                 0                  0        -1   \n",
       "2                   -1                 1                  0        -1   \n",
       "3                   -6                -1                  0        -1   \n",
       "4                    1                 0                  0        -1   \n",
       "...                ...               ...                ...       ...   \n",
       "19008                5                -1                  0         3   \n",
       "19009                2                 0                  0        10   \n",
       "19010                3                 1                  1         2   \n",
       "19011                0                -2                  0        -2   \n",
       "19012               -1                -3                  0        -2   \n",
       "\n",
       "       total_passes  ataques  ataques_perigosos  \n",
       "0                20        4                  5  \n",
       "1                20        4                  5  \n",
       "2                20        4                  5  \n",
       "3                20        4                  5  \n",
       "4                20        4                  5  \n",
       "...             ...      ...                ...  \n",
       "19008            20       -5                -27  \n",
       "19009            20       -9                 -7  \n",
       "19010            20      -12                -16  \n",
       "19011            20       -8                 17  \n",
       "19012            20       -4                  3  \n",
       "\n",
       "[19008 rows x 20 columns]"
      ]
     },
     "execution_count": 24,
     "metadata": {},
     "output_type": "execute_result"
    }
   ],
   "source": [
    "X"
   ]
  },
  {
   "cell_type": "markdown",
   "metadata": {},
   "source": [
    "### Tratamento variável categórica"
   ]
  },
  {
   "cell_type": "code",
   "execution_count": 25,
   "metadata": {},
   "outputs": [],
   "source": [
    "X = pd.get_dummies(X, columns=['placar_primeiro_tempo'], drop_first=True)"
   ]
  },
  {
   "cell_type": "markdown",
   "metadata": {},
   "source": [
    "### Reescala"
   ]
  },
  {
   "cell_type": "code",
   "execution_count": 26,
   "metadata": {},
   "outputs": [],
   "source": [
    "from sklearn.preprocessing import MinMaxScaler"
   ]
  },
  {
   "cell_type": "code",
   "execution_count": 27,
   "metadata": {},
   "outputs": [],
   "source": [
    "'''\n",
    "X[['posse_bola_mandante', 'posse_bola_visitante', 'tentativas_gol_mandante', 'tentativas_gol_visitante',\n",
    "         'finalizacoes_mandante', 'finalizacoes_visitante', 'chutes_fora_mandante', 'chutes_fora_visitante',\n",
    "         'faltas_cobradas_mandante', 'escanteios_mandante', 'escanteios_visitante', 'impedimentos_mandante',\n",
    "         'impedimentos_visitante', 'defesas_goleiro_visitante', 'defesas_goleiro_mandante',\n",
    "         'cartoes_amarelos_mandante', 'cartoes_amarelos_visitante', 'cartoes_vermelhos_mandante',\n",
    "         'cartoes_vermelhos_visitante', 'odd_mandante', 'odd_empate', 'odd_visitante', \n",
    "          'diferenca_gols_primeiro_tempo', 'placar_primeiro_tempo_E', 'placar_primeiro_tempo_V']] = MinMaxScaler().fit_transform(X[['posse_bola_mandante', 'posse_bola_visitante', 'tentativas_gol_mandante', 'tentativas_gol_visitante',\n",
    "         'finalizacoes_mandante', 'finalizacoes_visitante', 'chutes_fora_mandante', 'chutes_fora_visitante',\n",
    "         'faltas_cobradas_mandante', 'escanteios_mandante', 'escanteios_visitante', 'impedimentos_mandante',\n",
    "         'impedimentos_visitante', 'defesas_goleiro_visitante', 'defesas_goleiro_mandante',\n",
    "         'cartoes_amarelos_mandante', 'cartoes_amarelos_visitante', 'cartoes_vermelhos_mandante',\n",
    "         'cartoes_vermelhos_visitante', 'odd_mandante', 'odd_empate', 'odd_visitante', \n",
    "          'diferenca_gols_primeiro_tempo', 'placar_primeiro_tempo_E', 'placar_primeiro_tempo_V']])\n",
    "'''\n",
    "\n",
    "X[['posse_bola', 'tentativas_gol',\n",
    "         'finalizacoes', 'chutes_fora',\n",
    "         'faltas_cobradas', 'escanteios', 'impedimentos',\n",
    "        'defesas_goleiro',\n",
    "           'desarmes',\n",
    "   'total_passes',\n",
    "   'ataques',\n",
    "   'ataques_perigosos',\n",
    "         'cartoes_amarelos', 'cartoes_vermelhos', 'odd_mandante', 'odd_empate', 'odd_visitante', \n",
    "          'diferenca_gols_primeiro_tempo', 'placar_primeiro_tempo_E', 'placar_primeiro_tempo_V']] = MinMaxScaler().fit_transform(X[['posse_bola', 'tentativas_gol',\n",
    "         'finalizacoes', 'chutes_fora',\n",
    "         'faltas_cobradas', 'escanteios', 'impedimentos',\n",
    "        'defesas_goleiro',\n",
    "                                                                                                                                    'desarmes',\n",
    "   'total_passes',\n",
    "   'ataques',\n",
    "   'ataques_perigosos',\n",
    "         'cartoes_amarelos', 'cartoes_vermelhos', 'odd_mandante', 'odd_empate', 'odd_visitante', \n",
    "          'diferenca_gols_primeiro_tempo', 'placar_primeiro_tempo_E', 'placar_primeiro_tempo_V']])"
   ]
  },
  {
   "cell_type": "markdown",
   "metadata": {},
   "source": [
    "## Predição"
   ]
  },
  {
   "cell_type": "code",
   "execution_count": 28,
   "metadata": {},
   "outputs": [],
   "source": [
    "y = X.PlacarFinal\n",
    "X = X.drop('PlacarFinal', axis=1)"
   ]
  },
  {
   "cell_type": "code",
   "execution_count": 29,
   "metadata": {},
   "outputs": [],
   "source": [
    "#y = y.map({'D': 0, 'E': 1, 'V': 2})"
   ]
  },
  {
   "cell_type": "markdown",
   "metadata": {},
   "source": [
    "#### Colunas removidas com base na importância delas"
   ]
  },
  {
   "cell_type": "code",
   "execution_count": 30,
   "metadata": {},
   "outputs": [
    {
     "data": {
      "text/plain": [
       "\"\\nX.drop(['defesas_goleiro_mandante', 'defesas_goleiro_visitante', 'cartoes_vermelhos_mandante', 'cartoes_vermelhos_visitante'], axis=1, inplace=True)\\n\\nX.drop(['chutes_fora_mandante', 'chutes_fora_visitante', 'impedimentos_mandante', 'impedimentos_visitante',\\n       ], axis=1, inplace=True)\\n\\nX.drop(['faltas_cobradas_mandante', 'faltas_cobradas_visitante', 'escanteios_mandante', 'escanteios_visitante',\\n        'cartoes_amarelos_mandante', 'cartoes_amarelos_visitante'], axis=1, inplace=True)\\n\""
      ]
     },
     "execution_count": 30,
     "metadata": {},
     "output_type": "execute_result"
    }
   ],
   "source": [
    "'''\n",
    "X.drop(['defesas_goleiro_mandante', 'defesas_goleiro_visitante', 'cartoes_vermelhos_mandante', 'cartoes_vermelhos_visitante'], axis=1, inplace=True)\n",
    "\n",
    "X.drop(['chutes_fora_mandante', 'chutes_fora_visitante', 'impedimentos_mandante', 'impedimentos_visitante',\n",
    "       ], axis=1, inplace=True)\n",
    "\n",
    "X.drop(['faltas_cobradas_mandante', 'faltas_cobradas_visitante', 'escanteios_mandante', 'escanteios_visitante',\n",
    "        'cartoes_amarelos_mandante', 'cartoes_amarelos_visitante'], axis=1, inplace=True)\n",
    "'''"
   ]
  },
  {
   "cell_type": "code",
   "execution_count": 31,
   "metadata": {},
   "outputs": [
    {
     "data": {
      "text/html": [
       "<div>\n",
       "<style scoped>\n",
       "    .dataframe tbody tr th:only-of-type {\n",
       "        vertical-align: middle;\n",
       "    }\n",
       "\n",
       "    .dataframe tbody tr th {\n",
       "        vertical-align: top;\n",
       "    }\n",
       "\n",
       "    .dataframe thead th {\n",
       "        text-align: right;\n",
       "    }\n",
       "</style>\n",
       "<table border=\"1\" class=\"dataframe\">\n",
       "  <thead>\n",
       "    <tr style=\"text-align: right;\">\n",
       "      <th></th>\n",
       "      <th>odd_mandante</th>\n",
       "      <th>odd_empate</th>\n",
       "      <th>odd_visitante</th>\n",
       "      <th>diferenca_gols_primeiro_tempo</th>\n",
       "      <th>posse_bola</th>\n",
       "      <th>tentativas_gol</th>\n",
       "      <th>finalizacoes</th>\n",
       "      <th>chutes_fora</th>\n",
       "      <th>faltas_cobradas</th>\n",
       "      <th>escanteios</th>\n",
       "      <th>impedimentos</th>\n",
       "      <th>defesas_goleiro</th>\n",
       "      <th>cartoes_amarelos</th>\n",
       "      <th>cartoes_vermelhos</th>\n",
       "      <th>desarmes</th>\n",
       "      <th>total_passes</th>\n",
       "      <th>ataques</th>\n",
       "      <th>ataques_perigosos</th>\n",
       "      <th>placar_primeiro_tempo_E</th>\n",
       "      <th>placar_primeiro_tempo_V</th>\n",
       "    </tr>\n",
       "  </thead>\n",
       "  <tbody>\n",
       "    <tr>\n",
       "      <th>0</th>\n",
       "      <td>0.114243</td>\n",
       "      <td>0.067164</td>\n",
       "      <td>0.034400</td>\n",
       "      <td>0.500000</td>\n",
       "      <td>0.588235</td>\n",
       "      <td>0.408163</td>\n",
       "      <td>0.40</td>\n",
       "      <td>0.478261</td>\n",
       "      <td>0.566667</td>\n",
       "      <td>0.291667</td>\n",
       "      <td>0.4375</td>\n",
       "      <td>0.65</td>\n",
       "      <td>0.545455</td>\n",
       "      <td>0.50</td>\n",
       "      <td>0.516129</td>\n",
       "      <td>0.519953</td>\n",
       "      <td>0.491429</td>\n",
       "      <td>0.514706</td>\n",
       "      <td>1.0</td>\n",
       "      <td>0.0</td>\n",
       "    </tr>\n",
       "    <tr>\n",
       "      <th>1</th>\n",
       "      <td>0.053850</td>\n",
       "      <td>0.093817</td>\n",
       "      <td>0.064575</td>\n",
       "      <td>0.500000</td>\n",
       "      <td>0.588235</td>\n",
       "      <td>0.469388</td>\n",
       "      <td>0.44</td>\n",
       "      <td>0.565217</td>\n",
       "      <td>0.566667</td>\n",
       "      <td>0.541667</td>\n",
       "      <td>0.4375</td>\n",
       "      <td>0.60</td>\n",
       "      <td>0.545455</td>\n",
       "      <td>0.50</td>\n",
       "      <td>0.516129</td>\n",
       "      <td>0.519953</td>\n",
       "      <td>0.491429</td>\n",
       "      <td>0.514706</td>\n",
       "      <td>1.0</td>\n",
       "      <td>0.0</td>\n",
       "    </tr>\n",
       "    <tr>\n",
       "      <th>2</th>\n",
       "      <td>0.033719</td>\n",
       "      <td>0.104478</td>\n",
       "      <td>0.124925</td>\n",
       "      <td>0.583333</td>\n",
       "      <td>0.588235</td>\n",
       "      <td>0.551020</td>\n",
       "      <td>0.56</td>\n",
       "      <td>0.608696</td>\n",
       "      <td>0.566667</td>\n",
       "      <td>0.458333</td>\n",
       "      <td>0.4375</td>\n",
       "      <td>0.50</td>\n",
       "      <td>0.636364</td>\n",
       "      <td>0.50</td>\n",
       "      <td>0.516129</td>\n",
       "      <td>0.519953</td>\n",
       "      <td>0.491429</td>\n",
       "      <td>0.514706</td>\n",
       "      <td>0.0</td>\n",
       "      <td>1.0</td>\n",
       "    </tr>\n",
       "    <tr>\n",
       "      <th>3</th>\n",
       "      <td>0.094112</td>\n",
       "      <td>0.061834</td>\n",
       "      <td>0.042446</td>\n",
       "      <td>0.500000</td>\n",
       "      <td>0.588235</td>\n",
       "      <td>0.653061</td>\n",
       "      <td>0.72</td>\n",
       "      <td>0.652174</td>\n",
       "      <td>0.566667</td>\n",
       "      <td>0.541667</td>\n",
       "      <td>0.4375</td>\n",
       "      <td>0.25</td>\n",
       "      <td>0.454545</td>\n",
       "      <td>0.50</td>\n",
       "      <td>0.516129</td>\n",
       "      <td>0.519953</td>\n",
       "      <td>0.491429</td>\n",
       "      <td>0.514706</td>\n",
       "      <td>1.0</td>\n",
       "      <td>0.0</td>\n",
       "    </tr>\n",
       "    <tr>\n",
       "      <th>4</th>\n",
       "      <td>0.053850</td>\n",
       "      <td>0.071429</td>\n",
       "      <td>0.084691</td>\n",
       "      <td>0.500000</td>\n",
       "      <td>0.588235</td>\n",
       "      <td>0.469388</td>\n",
       "      <td>0.44</td>\n",
       "      <td>0.565217</td>\n",
       "      <td>0.566667</td>\n",
       "      <td>0.416667</td>\n",
       "      <td>0.4375</td>\n",
       "      <td>0.60</td>\n",
       "      <td>0.545455</td>\n",
       "      <td>0.50</td>\n",
       "      <td>0.516129</td>\n",
       "      <td>0.519953</td>\n",
       "      <td>0.491429</td>\n",
       "      <td>0.514706</td>\n",
       "      <td>1.0</td>\n",
       "      <td>0.0</td>\n",
       "    </tr>\n",
       "    <tr>\n",
       "      <th>...</th>\n",
       "      <td>...</td>\n",
       "      <td>...</td>\n",
       "      <td>...</td>\n",
       "      <td>...</td>\n",
       "      <td>...</td>\n",
       "      <td>...</td>\n",
       "      <td>...</td>\n",
       "      <td>...</td>\n",
       "      <td>...</td>\n",
       "      <td>...</td>\n",
       "      <td>...</td>\n",
       "      <td>...</td>\n",
       "      <td>...</td>\n",
       "      <td>...</td>\n",
       "      <td>...</td>\n",
       "      <td>...</td>\n",
       "      <td>...</td>\n",
       "      <td>...</td>\n",
       "      <td>...</td>\n",
       "      <td>...</td>\n",
       "    </tr>\n",
       "    <tr>\n",
       "      <th>19008</th>\n",
       "      <td>0.194766</td>\n",
       "      <td>0.061834</td>\n",
       "      <td>0.020318</td>\n",
       "      <td>0.583333</td>\n",
       "      <td>0.494118</td>\n",
       "      <td>0.367347</td>\n",
       "      <td>0.32</td>\n",
       "      <td>0.478261</td>\n",
       "      <td>0.633333</td>\n",
       "      <td>0.125000</td>\n",
       "      <td>0.5000</td>\n",
       "      <td>0.80</td>\n",
       "      <td>0.454545</td>\n",
       "      <td>0.50</td>\n",
       "      <td>0.645161</td>\n",
       "      <td>0.519953</td>\n",
       "      <td>0.440000</td>\n",
       "      <td>0.279412</td>\n",
       "      <td>0.0</td>\n",
       "      <td>1.0</td>\n",
       "    </tr>\n",
       "    <tr>\n",
       "      <th>19009</th>\n",
       "      <td>0.073981</td>\n",
       "      <td>0.051173</td>\n",
       "      <td>0.061155</td>\n",
       "      <td>0.583333</td>\n",
       "      <td>0.529412</td>\n",
       "      <td>0.448980</td>\n",
       "      <td>0.44</td>\n",
       "      <td>0.521739</td>\n",
       "      <td>0.400000</td>\n",
       "      <td>0.416667</td>\n",
       "      <td>0.4375</td>\n",
       "      <td>0.65</td>\n",
       "      <td>0.545455</td>\n",
       "      <td>0.50</td>\n",
       "      <td>0.870968</td>\n",
       "      <td>0.519953</td>\n",
       "      <td>0.417143</td>\n",
       "      <td>0.426471</td>\n",
       "      <td>0.0</td>\n",
       "      <td>1.0</td>\n",
       "    </tr>\n",
       "    <tr>\n",
       "      <th>19010</th>\n",
       "      <td>0.161047</td>\n",
       "      <td>0.051173</td>\n",
       "      <td>0.026755</td>\n",
       "      <td>0.500000</td>\n",
       "      <td>0.305882</td>\n",
       "      <td>0.387755</td>\n",
       "      <td>0.36</td>\n",
       "      <td>0.478261</td>\n",
       "      <td>0.500000</td>\n",
       "      <td>0.375000</td>\n",
       "      <td>0.5625</td>\n",
       "      <td>0.70</td>\n",
       "      <td>0.636364</td>\n",
       "      <td>0.75</td>\n",
       "      <td>0.612903</td>\n",
       "      <td>0.519953</td>\n",
       "      <td>0.400000</td>\n",
       "      <td>0.360294</td>\n",
       "      <td>1.0</td>\n",
       "      <td>0.0</td>\n",
       "    </tr>\n",
       "    <tr>\n",
       "      <th>19011</th>\n",
       "      <td>0.161047</td>\n",
       "      <td>0.051173</td>\n",
       "      <td>0.026755</td>\n",
       "      <td>0.500000</td>\n",
       "      <td>0.482353</td>\n",
       "      <td>0.489796</td>\n",
       "      <td>0.48</td>\n",
       "      <td>0.565217</td>\n",
       "      <td>0.500000</td>\n",
       "      <td>0.583333</td>\n",
       "      <td>0.4375</td>\n",
       "      <td>0.55</td>\n",
       "      <td>0.363636</td>\n",
       "      <td>0.50</td>\n",
       "      <td>0.483871</td>\n",
       "      <td>0.519953</td>\n",
       "      <td>0.422857</td>\n",
       "      <td>0.602941</td>\n",
       "      <td>1.0</td>\n",
       "      <td>0.0</td>\n",
       "    </tr>\n",
       "    <tr>\n",
       "      <th>19012</th>\n",
       "      <td>0.161047</td>\n",
       "      <td>0.072495</td>\n",
       "      <td>0.022330</td>\n",
       "      <td>0.416667</td>\n",
       "      <td>0.552941</td>\n",
       "      <td>0.530612</td>\n",
       "      <td>0.48</td>\n",
       "      <td>0.652174</td>\n",
       "      <td>0.600000</td>\n",
       "      <td>0.333333</td>\n",
       "      <td>0.5625</td>\n",
       "      <td>0.50</td>\n",
       "      <td>0.272727</td>\n",
       "      <td>0.50</td>\n",
       "      <td>0.483871</td>\n",
       "      <td>0.519953</td>\n",
       "      <td>0.445714</td>\n",
       "      <td>0.500000</td>\n",
       "      <td>0.0</td>\n",
       "      <td>0.0</td>\n",
       "    </tr>\n",
       "  </tbody>\n",
       "</table>\n",
       "<p>19008 rows × 20 columns</p>\n",
       "</div>"
      ],
      "text/plain": [
       "       odd_mandante  odd_empate  odd_visitante  diferenca_gols_primeiro_tempo  \\\n",
       "0          0.114243    0.067164       0.034400                       0.500000   \n",
       "1          0.053850    0.093817       0.064575                       0.500000   \n",
       "2          0.033719    0.104478       0.124925                       0.583333   \n",
       "3          0.094112    0.061834       0.042446                       0.500000   \n",
       "4          0.053850    0.071429       0.084691                       0.500000   \n",
       "...             ...         ...            ...                            ...   \n",
       "19008      0.194766    0.061834       0.020318                       0.583333   \n",
       "19009      0.073981    0.051173       0.061155                       0.583333   \n",
       "19010      0.161047    0.051173       0.026755                       0.500000   \n",
       "19011      0.161047    0.051173       0.026755                       0.500000   \n",
       "19012      0.161047    0.072495       0.022330                       0.416667   \n",
       "\n",
       "       posse_bola  tentativas_gol  finalizacoes  chutes_fora  faltas_cobradas  \\\n",
       "0        0.588235        0.408163          0.40     0.478261         0.566667   \n",
       "1        0.588235        0.469388          0.44     0.565217         0.566667   \n",
       "2        0.588235        0.551020          0.56     0.608696         0.566667   \n",
       "3        0.588235        0.653061          0.72     0.652174         0.566667   \n",
       "4        0.588235        0.469388          0.44     0.565217         0.566667   \n",
       "...           ...             ...           ...          ...              ...   \n",
       "19008    0.494118        0.367347          0.32     0.478261         0.633333   \n",
       "19009    0.529412        0.448980          0.44     0.521739         0.400000   \n",
       "19010    0.305882        0.387755          0.36     0.478261         0.500000   \n",
       "19011    0.482353        0.489796          0.48     0.565217         0.500000   \n",
       "19012    0.552941        0.530612          0.48     0.652174         0.600000   \n",
       "\n",
       "       escanteios  impedimentos  defesas_goleiro  cartoes_amarelos  \\\n",
       "0        0.291667        0.4375             0.65          0.545455   \n",
       "1        0.541667        0.4375             0.60          0.545455   \n",
       "2        0.458333        0.4375             0.50          0.636364   \n",
       "3        0.541667        0.4375             0.25          0.454545   \n",
       "4        0.416667        0.4375             0.60          0.545455   \n",
       "...           ...           ...              ...               ...   \n",
       "19008    0.125000        0.5000             0.80          0.454545   \n",
       "19009    0.416667        0.4375             0.65          0.545455   \n",
       "19010    0.375000        0.5625             0.70          0.636364   \n",
       "19011    0.583333        0.4375             0.55          0.363636   \n",
       "19012    0.333333        0.5625             0.50          0.272727   \n",
       "\n",
       "       cartoes_vermelhos  desarmes  total_passes   ataques  ataques_perigosos  \\\n",
       "0                   0.50  0.516129      0.519953  0.491429           0.514706   \n",
       "1                   0.50  0.516129      0.519953  0.491429           0.514706   \n",
       "2                   0.50  0.516129      0.519953  0.491429           0.514706   \n",
       "3                   0.50  0.516129      0.519953  0.491429           0.514706   \n",
       "4                   0.50  0.516129      0.519953  0.491429           0.514706   \n",
       "...                  ...       ...           ...       ...                ...   \n",
       "19008               0.50  0.645161      0.519953  0.440000           0.279412   \n",
       "19009               0.50  0.870968      0.519953  0.417143           0.426471   \n",
       "19010               0.75  0.612903      0.519953  0.400000           0.360294   \n",
       "19011               0.50  0.483871      0.519953  0.422857           0.602941   \n",
       "19012               0.50  0.483871      0.519953  0.445714           0.500000   \n",
       "\n",
       "       placar_primeiro_tempo_E  placar_primeiro_tempo_V  \n",
       "0                          1.0                      0.0  \n",
       "1                          1.0                      0.0  \n",
       "2                          0.0                      1.0  \n",
       "3                          1.0                      0.0  \n",
       "4                          1.0                      0.0  \n",
       "...                        ...                      ...  \n",
       "19008                      0.0                      1.0  \n",
       "19009                      0.0                      1.0  \n",
       "19010                      1.0                      0.0  \n",
       "19011                      1.0                      0.0  \n",
       "19012                      0.0                      0.0  \n",
       "\n",
       "[19008 rows x 20 columns]"
      ]
     },
     "execution_count": 31,
     "metadata": {},
     "output_type": "execute_result"
    }
   ],
   "source": [
    "X"
   ]
  },
  {
   "cell_type": "code",
   "execution_count": 32,
   "metadata": {},
   "outputs": [],
   "source": [
    "\n",
    "X.drop(['total_passes', 'defesas_goleiro', 'ataques', 'ataques_perigosos', 'cartoes_amarelos',\n",
    "        'faltas_cobradas', 'tentativas_gol', 'desarmes', 'diferenca_gols_primeiro_tempo'\n",
    "       ], axis=1, inplace=True)\n",
    "\n"
   ]
  },
  {
   "cell_type": "markdown",
   "metadata": {},
   "source": [
    "### Tratamento classes desbalanceadas"
   ]
  },
  {
   "cell_type": "code",
   "execution_count": 33,
   "metadata": {},
   "outputs": [
    {
     "data": {
      "image/png": "[encoded data removed]",
      "text/plain": [
       "<Figure size 432x288 with 1 Axes>"
      ]
     },
     "metadata": {
      "needs_background": "light"
     },
     "output_type": "display_data"
    }
   ],
   "source": [
    "import seaborn as sns\n",
    "ax = sns.countplot(x=y)"
   ]
  },
  {
   "cell_type": "code",
   "execution_count": 34,
   "metadata": {},
   "outputs": [
    {
     "data": {
      "text/plain": [
       "'\\nfrom imblearn.under_sampling import NearMiss\\nnr = NearMiss()\\nX, y = nr.fit_sample(X, y)\\n'"
      ]
     },
     "execution_count": 34,
     "metadata": {},
     "output_type": "execute_result"
    }
   ],
   "source": [
    "'''\n",
    "from imblearn.under_sampling import NearMiss\n",
    "nr = NearMiss()\n",
    "X, y = nr.fit_sample(X, y)\n",
    "'''\n"
   ]
  },
  {
   "cell_type": "code",
   "execution_count": 35,
   "metadata": {},
   "outputs": [],
   "source": [
    "#ax = sns.countplot(x=y)"
   ]
  },
  {
   "cell_type": "code",
   "execution_count": 36,
   "metadata": {},
   "outputs": [
    {
     "data": {
      "text/plain": [
       "<AxesSubplot:>"
      ]
     },
     "execution_count": 36,
     "metadata": {},
     "output_type": "execute_result"
    },
    {
     "data": {
      "image/png": "[encoded data removed]",
      "text/plain": [
       "<Figure size 432x288 with 2 Axes>"
      ]
     },
     "metadata": {
      "needs_background": "light"
     },
     "output_type": "display_data"
    }
   ],
   "source": [
    "sns.heatmap(X.corr())"
   ]
  },
  {
   "cell_type": "code",
   "execution_count": 37,
   "metadata": {},
   "outputs": [],
   "source": [
    "from sklearn.model_selection import train_test_split\n",
    "from sklearn import linear_model\n",
    "lm = linear_model.LinearRegression()\n",
    "X_train, X_test, y_train, y_test = train_test_split(X, y, test_size=0.2, random_state=123)"
   ]
  },
  {
   "cell_type": "code",
   "execution_count": 38,
   "metadata": {},
   "outputs": [],
   "source": [
    "from sklearn.ensemble import ExtraTreesClassifier\n",
    "from sklearn.feature_selection import SelectFromModel"
   ]
  },
  {
   "cell_type": "code",
   "execution_count": 39,
   "metadata": {},
   "outputs": [
    {
     "data": {
      "text/html": [
       "<div>\n",
       "<style scoped>\n",
       "    .dataframe tbody tr th:only-of-type {\n",
       "        vertical-align: middle;\n",
       "    }\n",
       "\n",
       "    .dataframe tbody tr th {\n",
       "        vertical-align: top;\n",
       "    }\n",
       "\n",
       "    .dataframe thead th {\n",
       "        text-align: right;\n",
       "    }\n",
       "</style>\n",
       "<table border=\"1\" class=\"dataframe\">\n",
       "  <thead>\n",
       "    <tr style=\"text-align: right;\">\n",
       "      <th></th>\n",
       "      <th>odd_mandante</th>\n",
       "      <th>odd_empate</th>\n",
       "      <th>odd_visitante</th>\n",
       "      <th>posse_bola</th>\n",
       "      <th>finalizacoes</th>\n",
       "      <th>chutes_fora</th>\n",
       "      <th>escanteios</th>\n",
       "      <th>impedimentos</th>\n",
       "      <th>cartoes_vermelhos</th>\n",
       "      <th>placar_primeiro_tempo_E</th>\n",
       "      <th>placar_primeiro_tempo_V</th>\n",
       "    </tr>\n",
       "  </thead>\n",
       "  <tbody>\n",
       "    <tr>\n",
       "      <th>0</th>\n",
       "      <td>0.114243</td>\n",
       "      <td>0.067164</td>\n",
       "      <td>0.034400</td>\n",
       "      <td>0.588235</td>\n",
       "      <td>0.40</td>\n",
       "      <td>0.478261</td>\n",
       "      <td>0.291667</td>\n",
       "      <td>0.4375</td>\n",
       "      <td>0.50</td>\n",
       "      <td>1.0</td>\n",
       "      <td>0.0</td>\n",
       "    </tr>\n",
       "    <tr>\n",
       "      <th>1</th>\n",
       "      <td>0.053850</td>\n",
       "      <td>0.093817</td>\n",
       "      <td>0.064575</td>\n",
       "      <td>0.588235</td>\n",
       "      <td>0.44</td>\n",
       "      <td>0.565217</td>\n",
       "      <td>0.541667</td>\n",
       "      <td>0.4375</td>\n",
       "      <td>0.50</td>\n",
       "      <td>1.0</td>\n",
       "      <td>0.0</td>\n",
       "    </tr>\n",
       "    <tr>\n",
       "      <th>2</th>\n",
       "      <td>0.033719</td>\n",
       "      <td>0.104478</td>\n",
       "      <td>0.124925</td>\n",
       "      <td>0.588235</td>\n",
       "      <td>0.56</td>\n",
       "      <td>0.608696</td>\n",
       "      <td>0.458333</td>\n",
       "      <td>0.4375</td>\n",
       "      <td>0.50</td>\n",
       "      <td>0.0</td>\n",
       "      <td>1.0</td>\n",
       "    </tr>\n",
       "    <tr>\n",
       "      <th>3</th>\n",
       "      <td>0.094112</td>\n",
       "      <td>0.061834</td>\n",
       "      <td>0.042446</td>\n",
       "      <td>0.588235</td>\n",
       "      <td>0.72</td>\n",
       "      <td>0.652174</td>\n",
       "      <td>0.541667</td>\n",
       "      <td>0.4375</td>\n",
       "      <td>0.50</td>\n",
       "      <td>1.0</td>\n",
       "      <td>0.0</td>\n",
       "    </tr>\n",
       "    <tr>\n",
       "      <th>4</th>\n",
       "      <td>0.053850</td>\n",
       "      <td>0.071429</td>\n",
       "      <td>0.084691</td>\n",
       "      <td>0.588235</td>\n",
       "      <td>0.44</td>\n",
       "      <td>0.565217</td>\n",
       "      <td>0.416667</td>\n",
       "      <td>0.4375</td>\n",
       "      <td>0.50</td>\n",
       "      <td>1.0</td>\n",
       "      <td>0.0</td>\n",
       "    </tr>\n",
       "    <tr>\n",
       "      <th>...</th>\n",
       "      <td>...</td>\n",
       "      <td>...</td>\n",
       "      <td>...</td>\n",
       "      <td>...</td>\n",
       "      <td>...</td>\n",
       "      <td>...</td>\n",
       "      <td>...</td>\n",
       "      <td>...</td>\n",
       "      <td>...</td>\n",
       "      <td>...</td>\n",
       "      <td>...</td>\n",
       "    </tr>\n",
       "    <tr>\n",
       "      <th>19008</th>\n",
       "      <td>0.194766</td>\n",
       "      <td>0.061834</td>\n",
       "      <td>0.020318</td>\n",
       "      <td>0.494118</td>\n",
       "      <td>0.32</td>\n",
       "      <td>0.478261</td>\n",
       "      <td>0.125000</td>\n",
       "      <td>0.5000</td>\n",
       "      <td>0.50</td>\n",
       "      <td>0.0</td>\n",
       "      <td>1.0</td>\n",
       "    </tr>\n",
       "    <tr>\n",
       "      <th>19009</th>\n",
       "      <td>0.073981</td>\n",
       "      <td>0.051173</td>\n",
       "      <td>0.061155</td>\n",
       "      <td>0.529412</td>\n",
       "      <td>0.44</td>\n",
       "      <td>0.521739</td>\n",
       "      <td>0.416667</td>\n",
       "      <td>0.4375</td>\n",
       "      <td>0.50</td>\n",
       "      <td>0.0</td>\n",
       "      <td>1.0</td>\n",
       "    </tr>\n",
       "    <tr>\n",
       "      <th>19010</th>\n",
       "      <td>0.161047</td>\n",
       "      <td>0.051173</td>\n",
       "      <td>0.026755</td>\n",
       "      <td>0.305882</td>\n",
       "      <td>0.36</td>\n",
       "      <td>0.478261</td>\n",
       "      <td>0.375000</td>\n",
       "      <td>0.5625</td>\n",
       "      <td>0.75</td>\n",
       "      <td>1.0</td>\n",
       "      <td>0.0</td>\n",
       "    </tr>\n",
       "    <tr>\n",
       "      <th>19011</th>\n",
       "      <td>0.161047</td>\n",
       "      <td>0.051173</td>\n",
       "      <td>0.026755</td>\n",
       "      <td>0.482353</td>\n",
       "      <td>0.48</td>\n",
       "      <td>0.565217</td>\n",
       "      <td>0.583333</td>\n",
       "      <td>0.4375</td>\n",
       "      <td>0.50</td>\n",
       "      <td>1.0</td>\n",
       "      <td>0.0</td>\n",
       "    </tr>\n",
       "    <tr>\n",
       "      <th>19012</th>\n",
       "      <td>0.161047</td>\n",
       "      <td>0.072495</td>\n",
       "      <td>0.022330</td>\n",
       "      <td>0.552941</td>\n",
       "      <td>0.48</td>\n",
       "      <td>0.652174</td>\n",
       "      <td>0.333333</td>\n",
       "      <td>0.5625</td>\n",
       "      <td>0.50</td>\n",
       "      <td>0.0</td>\n",
       "      <td>0.0</td>\n",
       "    </tr>\n",
       "  </tbody>\n",
       "</table>\n",
       "<p>19008 rows × 11 columns</p>\n",
       "</div>"
      ],
      "text/plain": [
       "       odd_mandante  odd_empate  odd_visitante  posse_bola  finalizacoes  \\\n",
       "0          0.114243    0.067164       0.034400    0.588235          0.40   \n",
       "1          0.053850    0.093817       0.064575    0.588235          0.44   \n",
       "2          0.033719    0.104478       0.124925    0.588235          0.56   \n",
       "3          0.094112    0.061834       0.042446    0.588235          0.72   \n",
       "4          0.053850    0.071429       0.084691    0.588235          0.44   \n",
       "...             ...         ...            ...         ...           ...   \n",
       "19008      0.194766    0.061834       0.020318    0.494118          0.32   \n",
       "19009      0.073981    0.051173       0.061155    0.529412          0.44   \n",
       "19010      0.161047    0.051173       0.026755    0.305882          0.36   \n",
       "19011      0.161047    0.051173       0.026755    0.482353          0.48   \n",
       "19012      0.161047    0.072495       0.022330    0.552941          0.48   \n",
       "\n",
       "       chutes_fora  escanteios  impedimentos  cartoes_vermelhos  \\\n",
       "0         0.478261    0.291667        0.4375               0.50   \n",
       "1         0.565217    0.541667        0.4375               0.50   \n",
       "2         0.608696    0.458333        0.4375               0.50   \n",
       "3         0.652174    0.541667        0.4375               0.50   \n",
       "4         0.565217    0.416667        0.4375               0.50   \n",
       "...            ...         ...           ...                ...   \n",
       "19008     0.478261    0.125000        0.5000               0.50   \n",
       "19009     0.521739    0.416667        0.4375               0.50   \n",
       "19010     0.478261    0.375000        0.5625               0.75   \n",
       "19011     0.565217    0.583333        0.4375               0.50   \n",
       "19012     0.652174    0.333333        0.5625               0.50   \n",
       "\n",
       "       placar_primeiro_tempo_E  placar_primeiro_tempo_V  \n",
       "0                          1.0                      0.0  \n",
       "1                          1.0                      0.0  \n",
       "2                          0.0                      1.0  \n",
       "3                          1.0                      0.0  \n",
       "4                          1.0                      0.0  \n",
       "...                        ...                      ...  \n",
       "19008                      0.0                      1.0  \n",
       "19009                      0.0                      1.0  \n",
       "19010                      1.0                      0.0  \n",
       "19011                      1.0                      0.0  \n",
       "19012                      0.0                      0.0  \n",
       "\n",
       "[19008 rows x 11 columns]"
      ]
     },
     "execution_count": 39,
     "metadata": {},
     "output_type": "execute_result"
    }
   ],
   "source": [
    "X"
   ]
  },
  {
   "cell_type": "code",
   "execution_count": 40,
   "metadata": {},
   "outputs": [
    {
     "data": {
      "text/plain": [
       "array([0.12222675, 0.09767065, 0.11223464, 0.11184247, 0.08824957,\n",
       "       0.08885943, 0.08889335, 0.08296443, 0.00989953, 0.04849437,\n",
       "       0.14866481])"
      ]
     },
     "execution_count": 40,
     "metadata": {},
     "output_type": "execute_result"
    }
   ],
   "source": [
    "clf = ExtraTreesClassifier()\n",
    "clf = clf.fit(X, y)\n",
    "clf.feature_importances_ #Mostra a importância de cada atributo"
   ]
  },
  {
   "cell_type": "code",
   "execution_count": 41,
   "metadata": {},
   "outputs": [
    {
     "data": {
      "text/plain": [
       "Index(['odd_mandante', 'odd_empate', 'odd_visitante', 'posse_bola',\n",
       "       'finalizacoes', 'chutes_fora', 'escanteios', 'impedimentos',\n",
       "       'cartoes_vermelhos', 'placar_primeiro_tempo_E',\n",
       "       'placar_primeiro_tempo_V'],\n",
       "      dtype='object')"
      ]
     },
     "execution_count": 41,
     "metadata": {},
     "output_type": "execute_result"
    }
   ],
   "source": [
    "X.columns"
   ]
  },
  {
   "cell_type": "code",
   "execution_count": 42,
   "metadata": {},
   "outputs": [],
   "source": [
    "##MODELOS\n",
    "from sklearn.ensemble import (AdaBoostClassifier, \n",
    "                              GradientBoostingClassifier, \n",
    "                              ExtraTreesClassifier, \n",
    "                              RandomForestClassifier)"
   ]
  },
  {
   "cell_type": "code",
   "execution_count": 43,
   "metadata": {},
   "outputs": [],
   "source": [
    "from sklearn.linear_model import LogisticRegression\n",
    "from sklearn.svm import SVC, LinearSVC\n",
    "from sklearn.neighbors import KNeighborsClassifier\n",
    "from sklearn.naive_bayes import GaussianNB\n",
    "from sklearn.linear_model import Perceptron\n",
    "from sklearn.linear_model import SGDClassifier\n",
    "from sklearn.tree import DecisionTreeClassifier"
   ]
  },
  {
   "cell_type": "code",
   "execution_count": 44,
   "metadata": {},
   "outputs": [],
   "source": [
    "##Classe modelo auxiliar\n",
    "class ModeloAuxiliar(object):\n",
    "    def __init__(self, clf, seed=123, params=None):\n",
    "        if params:\n",
    "            params['random_state'] = seed\n",
    "            self.clf = clf(**params)\n",
    "        else:\n",
    "            self.clf = clf()\n",
    "            \n",
    "    def predict(self,x):\n",
    "        return self.clf.predict(x)\n",
    "    def fit(self,x,y):\n",
    "        return self.clf.fit(x,y)\n",
    "    def feature_importances(self,x,y):\n",
    "        return self.clf.fit(x,y).feature_importances_\n",
    "    def score(self,x,y):\n",
    "        return self.clf.score(x,y)"
   ]
  },
  {
   "cell_type": "code",
   "execution_count": 45,
   "metadata": {},
   "outputs": [],
   "source": [
    "modelos = [{'nome': 'logreg', 'modelo': LogisticRegression},\n",
    "          {'nome': 'etree', 'modelo': ExtraTreesClassifier},\n",
    "          {'nome': 'gradboost', 'modelo': GradientBoostingClassifier},\n",
    "          {'nome': 'adaboost', 'modelo': AdaBoostClassifier},\n",
    "          {'nome': 'SVC', 'modelo': SVC},\n",
    "          {'nome': 'KNN', 'modelo': KNeighborsClassifier},\n",
    "          {'nome': 'GaussianNB', 'modelo': GaussianNB},\n",
    "          {'nome': 'Perceptron', 'modelo': Perceptron},\n",
    "          {'nome': 'LinearSVC', 'modelo': LinearSVC},\n",
    "          {'nome': 'SGD', 'modelo': SGDClassifier},\n",
    "          {'nome': 'DTree', 'modelo': DecisionTreeClassifier},\n",
    "          {'nome': 'RForest', 'modelo': RandomForestClassifier}\n",
    "          ]"
   ]
  },
  {
   "cell_type": "code",
   "execution_count": 46,
   "metadata": {},
   "outputs": [
    {
     "name": "stderr",
     "output_type": "stream",
     "text": [
      "/home/heuller/.local/lib/python3.8/site-packages/sklearn/linear_model/_logistic.py:762: ConvergenceWarning: lbfgs failed to converge (status=1):\n",
      "STOP: TOTAL NO. of ITERATIONS REACHED LIMIT.\n",
      "\n",
      "Increase the number of iterations (max_iter) or scale the data as shown in:\n",
      "    https://scikit-learn.org/stable/modules/preprocessing.html\n",
      "Please also refer to the documentation for alternative solver options:\n",
      "    https://scikit-learn.org/stable/modules/linear_model.html#logistic-regression\n",
      "  n_iter_i = _check_optimize_result(\n"
     ]
    }
   ],
   "source": [
    "resultados = []\n",
    "for model in modelos:\n",
    "    x = ModeloAuxiliar(clf=model['modelo'])\n",
    "    #treinar o modelo\n",
    "    x.fit(X_train, y_train)\n",
    "    #gerar predição\n",
    "    x_pred = x.predict(X_test)\n",
    "    #gerar score\n",
    "    acuracia = round(x.score(X_test, y_test)*100, 2)\n",
    "    \n",
    "    resultados.append({\n",
    "        'nome': model['nome'],\n",
    "        'score': acuracia,\n",
    "        'pred': x_pred\n",
    "    })"
   ]
  },
  {
   "cell_type": "code",
   "execution_count": 47,
   "metadata": {},
   "outputs": [],
   "source": [
    "models = pd.DataFrame(resultados)"
   ]
  },
  {
   "cell_type": "code",
   "execution_count": 48,
   "metadata": {},
   "outputs": [
    {
     "data": {
      "text/html": [
       "<div>\n",
       "<style scoped>\n",
       "    .dataframe tbody tr th:only-of-type {\n",
       "        vertical-align: middle;\n",
       "    }\n",
       "\n",
       "    .dataframe tbody tr th {\n",
       "        vertical-align: top;\n",
       "    }\n",
       "\n",
       "    .dataframe thead th {\n",
       "        text-align: right;\n",
       "    }\n",
       "</style>\n",
       "<table border=\"1\" class=\"dataframe\">\n",
       "  <thead>\n",
       "    <tr style=\"text-align: right;\">\n",
       "      <th></th>\n",
       "      <th>nome</th>\n",
       "      <th>score</th>\n",
       "    </tr>\n",
       "  </thead>\n",
       "  <tbody>\n",
       "    <tr>\n",
       "      <th>0</th>\n",
       "      <td>logreg</td>\n",
       "      <td>64.70</td>\n",
       "    </tr>\n",
       "    <tr>\n",
       "      <th>8</th>\n",
       "      <td>LinearSVC</td>\n",
       "      <td>64.57</td>\n",
       "    </tr>\n",
       "    <tr>\n",
       "      <th>3</th>\n",
       "      <td>adaboost</td>\n",
       "      <td>64.52</td>\n",
       "    </tr>\n",
       "    <tr>\n",
       "      <th>2</th>\n",
       "      <td>gradboost</td>\n",
       "      <td>64.39</td>\n",
       "    </tr>\n",
       "    <tr>\n",
       "      <th>4</th>\n",
       "      <td>SVC</td>\n",
       "      <td>63.91</td>\n",
       "    </tr>\n",
       "    <tr>\n",
       "      <th>9</th>\n",
       "      <td>SGD</td>\n",
       "      <td>63.26</td>\n",
       "    </tr>\n",
       "    <tr>\n",
       "      <th>11</th>\n",
       "      <td>RForest</td>\n",
       "      <td>62.20</td>\n",
       "    </tr>\n",
       "    <tr>\n",
       "      <th>1</th>\n",
       "      <td>etree</td>\n",
       "      <td>61.97</td>\n",
       "    </tr>\n",
       "    <tr>\n",
       "      <th>7</th>\n",
       "      <td>Perceptron</td>\n",
       "      <td>60.89</td>\n",
       "    </tr>\n",
       "    <tr>\n",
       "      <th>6</th>\n",
       "      <td>GaussianNB</td>\n",
       "      <td>60.81</td>\n",
       "    </tr>\n",
       "    <tr>\n",
       "      <th>5</th>\n",
       "      <td>KNN</td>\n",
       "      <td>58.18</td>\n",
       "    </tr>\n",
       "    <tr>\n",
       "      <th>10</th>\n",
       "      <td>DTree</td>\n",
       "      <td>51.92</td>\n",
       "    </tr>\n",
       "  </tbody>\n",
       "</table>\n",
       "</div>"
      ],
      "text/plain": [
       "          nome  score\n",
       "0       logreg  64.70\n",
       "8    LinearSVC  64.57\n",
       "3     adaboost  64.52\n",
       "2    gradboost  64.39\n",
       "4          SVC  63.91\n",
       "9          SGD  63.26\n",
       "11     RForest  62.20\n",
       "1        etree  61.97\n",
       "7   Perceptron  60.89\n",
       "6   GaussianNB  60.81\n",
       "5          KNN  58.18\n",
       "10       DTree  51.92"
      ]
     },
     "execution_count": 48,
     "metadata": {},
     "output_type": "execute_result"
    }
   ],
   "source": [
    "models[['nome', 'score']].sort_values(by='score', ascending=False)"
   ]
  },
  {
   "cell_type": "code",
   "execution_count": 76,
   "metadata": {},
   "outputs": [],
   "source": [
    "from sklearn.model_selection import cross_val_score\n",
    "\n",
    "modelo = LogisticRegression(C=0.23357214690901212, penalty='l1', solver='liblinear').fit(X_train, y_train)\n",
    "\n",
    "train_scores = cross_val_score(modelo, X_test, y_test, scoring='accuracy', cv=10)"
   ]
  },
  {
   "cell_type": "code",
   "execution_count": 80,
   "metadata": {},
   "outputs": [
    {
     "data": {
      "text/plain": [
       "array([0.64210526, 0.61578947, 0.63684211, 0.68947368, 0.58421053,\n",
       "       0.64736842, 0.62631579, 0.66315789, 0.59473684, 0.62105263])"
      ]
     },
     "execution_count": 80,
     "metadata": {},
     "output_type": "execute_result"
    }
   ],
   "source": [
    "train_scores"
   ]
  },
  {
   "cell_type": "code",
   "execution_count": 79,
   "metadata": {},
   "outputs": [
    {
     "data": {
      "text/plain": [
       "0.6321052631578947"
      ]
     },
     "execution_count": 79,
     "metadata": {},
     "output_type": "execute_result"
    }
   ],
   "source": [
    "train_scores.mean()"
   ]
  },
  {
   "cell_type": "code",
   "execution_count": null,
   "metadata": {},
   "outputs": [],
   "source": []
  },
  {
   "cell_type": "code",
   "execution_count": 49,
   "metadata": {},
   "outputs": [
    {
     "data": {
      "text/plain": [
       "\"\\nSVCModel = SVC()\\n\\nparam={'kernel':('linear', 'poly', 'rbf', 'sigmoid'),\\n      'C':np.arange(1,42,10),\\n      'degree':np.arange(3,6),   \\n      'coef0':np.arange(0.001,3,0.5),\\n      'gamma': ('auto', 'scale')}\\n\""
      ]
     },
     "execution_count": 49,
     "metadata": {},
     "output_type": "execute_result"
    }
   ],
   "source": [
    "'''\n",
    "SVCModel = SVC()\n",
    "\n",
    "param={'kernel':('linear', 'poly', 'rbf', 'sigmoid'),\n",
    "      'C':np.arange(1,42,10),\n",
    "      'degree':np.arange(3,6),   \n",
    "      'coef0':np.arange(0.001,3,0.5),\n",
    "      'gamma': ('auto', 'scale')}\n",
    "'''"
   ]
  },
  {
   "cell_type": "code",
   "execution_count": 50,
   "metadata": {},
   "outputs": [
    {
     "data": {
      "text/plain": [
       "'\\nfrom sklearn.model_selection import GridSearchCV\\ngrid_object = GridSearchCV(estimator = SVCModel, param_grid = param, cv=5)\\ngrid_object.fit(X_train, y_train)\\n'"
      ]
     },
     "execution_count": 50,
     "metadata": {},
     "output_type": "execute_result"
    }
   ],
   "source": [
    "'''\n",
    "from sklearn.model_selection import GridSearchCV\n",
    "grid_object = GridSearchCV(estimator = SVCModel, param_grid = param, cv=5)\n",
    "grid_object.fit(X_train, y_train)\n",
    "'''"
   ]
  },
  {
   "cell_type": "code",
   "execution_count": 51,
   "metadata": {},
   "outputs": [],
   "source": [
    "#grid_object.best_params_"
   ]
  },
  {
   "cell_type": "code",
   "execution_count": 52,
   "metadata": {},
   "outputs": [
    {
     "data": {
      "text/plain": [
       "\"\\nclf = LogisticRegression(C=0.23357214690901212, penalty='l1', solver='liblinear').fit(X_train, y_train)\\ny_pred = clf.predict(X_test)\\n\""
      ]
     },
     "execution_count": 52,
     "metadata": {},
     "output_type": "execute_result"
    }
   ],
   "source": [
    "'''\n",
    "clf = LogisticRegression(C=0.23357214690901212, penalty='l1', solver='liblinear').fit(X_train, y_train)\n",
    "y_pred = clf.predict(X_test)\n",
    "'''"
   ]
  },
  {
   "cell_type": "code",
   "execution_count": 53,
   "metadata": {},
   "outputs": [
    {
     "data": {
      "text/plain": [
       "\"\\nfrom sklearn.metrics import confusion_matrix\\nimport seaborn as sns\\n\\nsns.heatmap(confusion_matrix(y_test, y_pred), cmap='OrRd', annot=True, fmt='2.0f')\\nplt.ylabel('P R E V I S T O')\\nplt.xlabel('R E A L')\\nplt.show()\\n\""
      ]
     },
     "execution_count": 53,
     "metadata": {},
     "output_type": "execute_result"
    }
   ],
   "source": [
    "'''\n",
    "from sklearn.metrics import confusion_matrix\n",
    "import seaborn as sns\n",
    "\n",
    "sns.heatmap(confusion_matrix(y_test, y_pred), cmap='OrRd', annot=True, fmt='2.0f')\n",
    "plt.ylabel('P R E V I S T O')\n",
    "plt.xlabel('R E A L')\n",
    "plt.show()\n",
    "'''"
   ]
  },
  {
   "cell_type": "code",
   "execution_count": 54,
   "metadata": {},
   "outputs": [],
   "source": [
    "#clf.score(X_test, y_test)"
   ]
  },
  {
   "cell_type": "code",
   "execution_count": 55,
   "metadata": {},
   "outputs": [],
   "source": [
    "#y = y.map({'D': 0, 'E': 1, 'V': 2})"
   ]
  },
  {
   "cell_type": "code",
   "execution_count": 56,
   "metadata": {},
   "outputs": [
    {
     "data": {
      "text/plain": [
       "'\\nclf1 = LogisticRegression(random_state=123)\\nclf2 = LinearSVC(random_state=123)\\nclf3 = AdaBoostClassifier(random_state=123)\\n\\nclf4 = GaussianNB()\\nclf5 = KNeighborsClassifier()\\nclf6 = DecisionTreeClassifier(random_state=123)\\n'"
      ]
     },
     "execution_count": 56,
     "metadata": {},
     "output_type": "execute_result"
    }
   ],
   "source": [
    "'''\n",
    "clf1 = LogisticRegression(random_state=123)\n",
    "clf2 = LinearSVC(random_state=123)\n",
    "clf3 = AdaBoostClassifier(random_state=123)\n",
    "\n",
    "clf4 = GaussianNB()\n",
    "clf5 = KNeighborsClassifier()\n",
    "clf6 = DecisionTreeClassifier(random_state=123)\n",
    "'''"
   ]
  },
  {
   "cell_type": "code",
   "execution_count": 57,
   "metadata": {},
   "outputs": [
    {
     "data": {
      "text/plain": [
       "\"\\nestimator = []\\n#estimator.append(['LR', clf1])\\n#estimator.append(['LSVC', clf2])\\n#stimator.append(['ADA', clf3])\\nestimator.append(['GNB', clf4])\\nestimator.append(['KNN', clf5])\\nestimator.append(['DT', clf6])\\n\""
      ]
     },
     "execution_count": 57,
     "metadata": {},
     "output_type": "execute_result"
    }
   ],
   "source": [
    "'''\n",
    "estimator = []\n",
    "#estimator.append(['LR', clf1])\n",
    "#estimator.append(['LSVC', clf2])\n",
    "#stimator.append(['ADA', clf3])\n",
    "estimator.append(['GNB', clf4])\n",
    "estimator.append(['KNN', clf5])\n",
    "estimator.append(['DT', clf6])\n",
    "'''"
   ]
  },
  {
   "cell_type": "code",
   "execution_count": 58,
   "metadata": {},
   "outputs": [
    {
     "data": {
      "text/plain": [
       "\"\\nfrom sklearn.ensemble import VotingClassifier \\nfrom sklearn.metrics import accuracy_score\\nvot_hard = VotingClassifier(estimators = estimator, voting ='hard') \\nvot_hard.fit(X_train, y_train) \\ny_pred = vot_hard.predict(X_test) \\n  \\n# using accuracy_score metric to predict accuracy \\nscore = accuracy_score(y_test, y_pred) \\nprint(score)\\n\""
      ]
     },
     "execution_count": 58,
     "metadata": {},
     "output_type": "execute_result"
    }
   ],
   "source": [
    "'''\n",
    "from sklearn.ensemble import VotingClassifier \n",
    "from sklearn.metrics import accuracy_score\n",
    "vot_hard = VotingClassifier(estimators = estimator, voting ='hard') \n",
    "vot_hard.fit(X_train, y_train) \n",
    "y_pred = vot_hard.predict(X_test) \n",
    "  \n",
    "# using accuracy_score metric to predict accuracy \n",
    "score = accuracy_score(y_test, y_pred) \n",
    "print(score)\n",
    "'''"
   ]
  }
 ],
 "metadata": {
  "kernelspec": {
   "display_name": "Python 3",
   "language": "python",
   "name": "python3"
  },
  "language_info": {
   "codemirror_mode": {
    "name": "ipython",
    "version": 3
   },
   "file_extension": ".py",
   "mimetype": "text/x-python",
   "name": "python",
   "nbconvert_exporter": "python",
   "pygments_lexer": "ipython3",
   "version": "3.8.5"
  }
 },
 "nbformat": 4,
 "nbformat_minor": 4
}
