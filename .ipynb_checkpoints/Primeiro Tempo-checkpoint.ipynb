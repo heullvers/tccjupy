{
 "cells": [
  {
   "cell_type": "code",
   "execution_count": 1,
   "metadata": {},
   "outputs": [],
   "source": [
    "#Importação das bibliotecas\n",
    "import pandas as pd\n",
    "import numpy as np\n",
    "import matplotlib.pyplot as plt"
   ]
  },
  {
   "cell_type": "code",
   "execution_count": 2,
   "metadata": {},
   "outputs": [],
   "source": [
    "#Importação dos dados \n",
    "dataset = pd.read_csv('../dados/dadosFirstTime.csv', low_memory=False)"
   ]
  },
  {
   "cell_type": "code",
   "execution_count": 3,
   "metadata": {},
   "outputs": [
    {
     "data": {
      "text/plain": [
       "Index(['País', 'Campeonato', 'timeMandante', 'timeVisitante', 'Posse de bolaM',\n",
       "       'Posse de bolaV', 'Tentativas de golM', 'Tentativas de golV',\n",
       "       'FinalizaçõesM', 'FinalizaçõesV', 'Chutes foraM', 'Chutes foraV',\n",
       "       'Chutes bloqueadosM', 'Chutes bloqueadosV', 'Faltas cobradasM',\n",
       "       'Faltas cobradasV', 'EscanteiosM', 'EscanteiosV', 'ImpedimentosM',\n",
       "       'ImpedimentosV', 'Defesas do goleiroM', 'Defesas do goleiroV',\n",
       "       'FaltasM', 'FaltasV', 'Cartões amarelosM', 'Cartões amarelosV',\n",
       "       'Cartões VermelhosM', 'Cartões VermelhosV', 'Total de passesM',\n",
       "       'Total de passesV', 'DesarmesM', 'DesarmesV', 'AtaquesM', 'AtaquesV',\n",
       "       'Ataques PerigososM', 'Ataques PerigososV', 'OddM', 'OddE', 'OddV',\n",
       "       'DiferencaGols', 'PlacarPrimeiroTempo', 'PlacarFinal'],\n",
       "      dtype='object')"
      ]
     },
     "execution_count": 3,
     "metadata": {},
     "output_type": "execute_result"
    }
   ],
   "source": [
    "dataset.columns"
   ]
  },
  {
   "cell_type": "code",
   "execution_count": 4,
   "metadata": {},
   "outputs": [],
   "source": [
    "dataset.drop(['País', 'Campeonato', 'timeMandante', 'timeVisitante', 'FaltasM', 'FaltasV', 'Chutes bloqueadosM',\n",
    "             'Chutes bloqueadosV'], axis=1, inplace=True)"
   ]
  },
  {
   "cell_type": "code",
   "execution_count": 5,
   "metadata": {},
   "outputs": [],
   "source": [
    "X = dataset"
   ]
  },
  {
   "cell_type": "code",
   "execution_count": 6,
   "metadata": {},
   "outputs": [],
   "source": [
    "##Somente duas classes\n",
    "#X = X.loc[X['PlacarFinal'] != 'E']"
   ]
  },
  {
   "cell_type": "code",
   "execution_count": 7,
   "metadata": {},
   "outputs": [
    {
     "data": {
      "text/plain": [
       "array(['D', 'V', 'E'], dtype=object)"
      ]
     },
     "execution_count": 7,
     "metadata": {},
     "output_type": "execute_result"
    }
   ],
   "source": [
    "X.PlacarFinal.unique()"
   ]
  },
  {
   "cell_type": "code",
   "execution_count": 8,
   "metadata": {},
   "outputs": [
    {
     "data": {
      "text/plain": [
       "DesarmesV              14903\n",
       "DesarmesM              14903\n",
       "Total de passesV       14052\n",
       "Total de passesM       14052\n",
       "AtaquesV               12383\n",
       "AtaquesM               12383\n",
       "Ataques PerigososV     12382\n",
       "Ataques PerigososM     12382\n",
       "Faltas cobradasM        4775\n",
       "Faltas cobradasV        4775\n",
       "Posse de bolaM          2310\n",
       "Posse de bolaV          2310\n",
       "ImpedimentosV           1944\n",
       "ImpedimentosM           1944\n",
       "Chutes foraM            1879\n",
       "Chutes foraV            1879\n",
       "EscanteiosV             1875\n",
       "EscanteiosM             1875\n",
       "Defesas do goleiroV     1798\n",
       "Defesas do goleiroM     1798\n",
       "Tentativas de golV      1794\n",
       "Tentativas de golM      1794\n",
       "FinalizaçõesM           1793\n",
       "FinalizaçõesV           1793\n",
       "PlacarFinal                0\n",
       "PlacarPrimeiroTempo        0\n",
       "Cartões amarelosV          0\n",
       "Cartões VermelhosM         0\n",
       "Cartões VermelhosV         0\n",
       "OddM                       0\n",
       "OddE                       0\n",
       "OddV                       0\n",
       "DiferencaGols              0\n",
       "Cartões amarelosM          0\n",
       "dtype: int64"
      ]
     },
     "execution_count": 8,
     "metadata": {},
     "output_type": "execute_result"
    }
   ],
   "source": [
    "X.isnull().sum().sort_values(ascending=False)"
   ]
  },
  {
   "cell_type": "code",
   "execution_count": 9,
   "metadata": {},
   "outputs": [],
   "source": [
    "novos_titulos = {\n",
    "    'DesarmesM' : 'desarmes_mandante',\n",
    "    'DesarmesV' : 'desarmes_visitante', \n",
    "    'Total de passesM' : 'total_passes_mandante',\n",
    "    'Total de passesV' : 'total_passes_visitante',\n",
    "    'AtaquesV' : 'ataques_visitante',\n",
    "    'AtaquesM' : 'ataques_mandante',      \n",
    "    'Ataques PerigososV' : 'ataques_perigosos_visitante',   \n",
    "    'Ataques PerigososM' : 'ataques_perigosos_mandante',   \n",
    "    'Chutes bloqueadosV' : 'chutes_bloqueados_visitante',    \n",
    "    'Chutes bloqueadosM' : 'chutes_bloqueados_mandante',    \n",
    "    'Faltas cobradasV' : 'faltas_cobradas_visitante',      \n",
    "    'Faltas cobradasM': 'faltas_cobradas_mandante',     \n",
    "    'Posse de bolaM' : 'posse_bola_mandante',       \n",
    "    'Posse de bolaV' : 'posse_bola_visitante',      \n",
    "    'ImpedimentosM'  : 'impedimentos_mandante',    \n",
    "    'ImpedimentosV'  : 'impedimentos_visitante',        \n",
    "    'Chutes foraV' : 'chutes_fora_visitante',          \n",
    "    'Chutes foraM' : 'chutes_fora_mandante',         \n",
    "    'EscanteiosM' : 'escanteios_mandante',           \n",
    "    'EscanteiosV' : 'escanteios_visitante',            \n",
    "    'Defesas do goleiroV' : 'defesas_goleiro_visitante',     \n",
    "    'Defesas do goleiroM' : 'defesas_goleiro_mandante',    \n",
    "    'Tentativas de golV'  : 'tentativas_gol_visitante',    \n",
    "    'Tentativas de golM'  : 'tentativas_gol_mandante',    \n",
    "    'FinalizaçõesV'  : 'finalizacoes_visitante',         \n",
    "    'FinalizaçõesM'  : 'finalizacoes_mandante',        \n",
    "    'DiferencaGols'  : 'diferenca_gols_primeiro_tempo',           \n",
    "    'Cartões amarelosM' : 'cartoes_amarelos_mandante',     \n",
    "    'Cartões amarelosV' : 'cartoes_amarelos_visitante',        \n",
    "    'Cartões VermelhosM': 'cartoes_vermelhos_mandante',       \n",
    "    'Cartões VermelhosV': 'cartoes_vermelhos_visitante',       \n",
    "    'OddM': 'odd_mandante',                      \n",
    "    'OddE': 'odd_empate',                     \n",
    "    'OddV': 'odd_visitante',                      \n",
    "    'PlacarPrimeiroTempo': 'placar_primeiro_tempo',\n",
    "}"
   ]
  },
  {
   "cell_type": "code",
   "execution_count": 10,
   "metadata": {},
   "outputs": [],
   "source": [
    "X = X.rename(columns=novos_titulos)"
   ]
  },
  {
   "cell_type": "code",
   "execution_count": 11,
   "metadata": {},
   "outputs": [],
   "source": [
    "X.drop(['desarmes_mandante', 'desarmes_visitante', 'total_passes_mandante', 'total_passes_visitante',\n",
    "       'ataques_mandante', 'ataques_visitante', 'ataques_perigosos_mandante', 'ataques_perigosos_visitante'], axis=1, inplace=True)"
   ]
  },
  {
   "cell_type": "markdown",
   "metadata": {},
   "source": [
    "### Tratamento dados nulos"
   ]
  },
  {
   "cell_type": "code",
   "execution_count": 12,
   "metadata": {},
   "outputs": [],
   "source": [
    "mediana_posse_bola_mandante = X.posse_bola_mandante.median()\n",
    "mediana_posse_bola_visitante = X.posse_bola_visitante.median()\n",
    "\n",
    "\n",
    "mediana_tentativas_gol_mandante = X.tentativas_gol_mandante.median()\n",
    "mediana_tentativas_gol_visitante = X.tentativas_gol_visitante.median()\n",
    "\n",
    "mediana_finalizacoes_mandante = X.finalizacoes_mandante.median()\n",
    "mediana_finalizacoes_visitante = X.finalizacoes_visitante.median()\n",
    "\n",
    "mediana_chutes_fora_mandante = X.chutes_fora_mandante.median()\n",
    "mediana_chutes_fora_visitante = X.chutes_fora_visitante.median()\n",
    "\n",
    "mediana_faltas_cobradas_mandante = X.faltas_cobradas_mandante.median()\n",
    "mediana_faltas_cobradas_visitante = X.faltas_cobradas_visitante.median()\n",
    "\n",
    "mediana_escanteios_mandante = X.escanteios_mandante.median()\n",
    "mediana_escanteios_visitante = X.escanteios_visitante.median()\n",
    "\n",
    "mediana_impedimentos_mandante = X.impedimentos_mandante.median()\n",
    "mediana_impedimentos_visitante = X.impedimentos_visitante.median()\n",
    "\n",
    "mediana_defesas_goleiro_mandante = X.defesas_goleiro_mandante.median()\n",
    "mediana_defesas_goleiro_visitante = X.defesas_goleiro_visitante.median()"
   ]
  },
  {
   "cell_type": "code",
   "execution_count": 13,
   "metadata": {},
   "outputs": [],
   "source": [
    "X.posse_bola_mandante.fillna(mediana_posse_bola_mandante, inplace=True)\n",
    "X.posse_bola_visitante.fillna(mediana_posse_bola_visitante,inplace=True)\n",
    "\n",
    "X.tentativas_gol_mandante.fillna(mediana_tentativas_gol_mandante,inplace=True)\n",
    "X.tentativas_gol_visitante.fillna(mediana_tentativas_gol_visitante,inplace=True)\n",
    "\n",
    "X.finalizacoes_mandante.fillna(mediana_finalizacoes_mandante,inplace=True)\n",
    "X.finalizacoes_visitante.fillna(mediana_finalizacoes_visitante,inplace=True)\n",
    "\n",
    "X.chutes_fora_mandante.fillna(mediana_chutes_fora_mandante,inplace=True)\n",
    "X.chutes_fora_visitante.fillna(mediana_chutes_fora_visitante,inplace=True)\n",
    "\n",
    "X.faltas_cobradas_mandante.fillna(mediana_faltas_cobradas_mandante,inplace=True)\n",
    "X.faltas_cobradas_visitante.fillna(mediana_faltas_cobradas_visitante,inplace=True)\n",
    "\n",
    "X.escanteios_mandante.fillna(mediana_escanteios_mandante,inplace=True)\n",
    "X.escanteios_visitante.fillna(mediana_escanteios_visitante,inplace=True)\n",
    "\n",
    "X.impedimentos_mandante.fillna(mediana_impedimentos_mandante,inplace=True)\n",
    "X.impedimentos_visitante.fillna(mediana_impedimentos_visitante,inplace=True)\n",
    "\n",
    "X.defesas_goleiro_mandante.fillna(mediana_defesas_goleiro_mandante,inplace=True)\n",
    "X.defesas_goleiro_visitante.fillna(mediana_defesas_goleiro_visitante,inplace=True)"
   ]
  },
  {
   "cell_type": "code",
   "execution_count": 14,
   "metadata": {},
   "outputs": [
    {
     "data": {
      "text/plain": [
       "posse_bola_mandante              0\n",
       "posse_bola_visitante             0\n",
       "tentativas_gol_mandante          0\n",
       "tentativas_gol_visitante         0\n",
       "finalizacoes_mandante            0\n",
       "finalizacoes_visitante           0\n",
       "chutes_fora_mandante             0\n",
       "chutes_fora_visitante            0\n",
       "faltas_cobradas_mandante         0\n",
       "faltas_cobradas_visitante        0\n",
       "escanteios_mandante              0\n",
       "escanteios_visitante             0\n",
       "impedimentos_mandante            0\n",
       "impedimentos_visitante           0\n",
       "defesas_goleiro_mandante         0\n",
       "defesas_goleiro_visitante        0\n",
       "cartoes_amarelos_mandante        0\n",
       "cartoes_amarelos_visitante       0\n",
       "cartoes_vermelhos_mandante       0\n",
       "cartoes_vermelhos_visitante      0\n",
       "odd_mandante                     0\n",
       "odd_empate                       0\n",
       "odd_visitante                    0\n",
       "diferenca_gols_primeiro_tempo    0\n",
       "placar_primeiro_tempo            0\n",
       "PlacarFinal                      0\n",
       "dtype: int64"
      ]
     },
     "execution_count": 14,
     "metadata": {},
     "output_type": "execute_result"
    }
   ],
   "source": [
    "X.isnull().sum()"
   ]
  },
  {
   "cell_type": "markdown",
   "metadata": {},
   "source": [
    "### Tratamento outliers"
   ]
  },
  {
   "cell_type": "code",
   "execution_count": 15,
   "metadata": {},
   "outputs": [
    {
     "data": {
      "text/plain": [
       "array([52., 34., 59., 42., 56., 46., 49., 68., 43., 62., 24., 55., 63.,\n",
       "       66., 61., 36., 45., 57., 48., 37., 54., 70., 65., 60., 47., 58.,\n",
       "       31., 41., 50., 67., 53., 51., 64., 38., 35., 39., 40., 44., 76.,\n",
       "       32., 73., 71., 74., 75., 26., 72., 69., 29., 27., 33., 79., 30.,\n",
       "        0., 28., 78., 81., 77., 23., 25., 80., 83., 21., 82., 22., 18.,\n",
       "       20., 87., 85., 84., 19., 17., 86.,  2.])"
      ]
     },
     "execution_count": 15,
     "metadata": {},
     "output_type": "execute_result"
    }
   ],
   "source": [
    "X.posse_bola_mandante.unique()"
   ]
  },
  {
   "cell_type": "code",
   "execution_count": 16,
   "metadata": {},
   "outputs": [],
   "source": [
    "#quando posse de bola do mandante foi igual a zero, a do visitante também foi\n",
    "remove_posse =  X.loc[X['posse_bola_mandante'] == 0]\n",
    "X.drop(remove_posse.index, inplace=True)"
   ]
  },
  {
   "cell_type": "code",
   "execution_count": 17,
   "metadata": {},
   "outputs": [
    {
     "data": {
      "text/plain": [
       "array([ 5.,  1.,  0.,  2.,  6.,  3.,  4.,  7.,  8.,  9., 10., -1.])"
      ]
     },
     "execution_count": 17,
     "metadata": {},
     "output_type": "execute_result"
    }
   ],
   "source": [
    "X.defesas_goleiro_mandante.unique()"
   ]
  },
  {
   "cell_type": "code",
   "execution_count": 18,
   "metadata": {},
   "outputs": [
    {
     "data": {
      "text/plain": [
       "12208   -1.0\n",
       "Name: defesas_goleiro_mandante, dtype: float64"
      ]
     },
     "execution_count": 18,
     "metadata": {},
     "output_type": "execute_result"
    }
   ],
   "source": [
    "X.loc[X['defesas_goleiro_mandante'] == -1].defesas_goleiro_mandante"
   ]
  },
  {
   "cell_type": "code",
   "execution_count": 19,
   "metadata": {},
   "outputs": [],
   "source": [
    "#remoção da defesa do goleiro negativa\n",
    "X.drop(12208, inplace=True)"
   ]
  },
  {
   "cell_type": "code",
   "execution_count": 20,
   "metadata": {},
   "outputs": [
    {
     "data": {
      "text/plain": [
       "posse_bola_mandante              float64\n",
       "posse_bola_visitante             float64\n",
       "tentativas_gol_mandante          float64\n",
       "tentativas_gol_visitante         float64\n",
       "finalizacoes_mandante            float64\n",
       "finalizacoes_visitante           float64\n",
       "chutes_fora_mandante             float64\n",
       "chutes_fora_visitante            float64\n",
       "faltas_cobradas_mandante         float64\n",
       "faltas_cobradas_visitante        float64\n",
       "escanteios_mandante              float64\n",
       "escanteios_visitante             float64\n",
       "impedimentos_mandante            float64\n",
       "impedimentos_visitante           float64\n",
       "defesas_goleiro_mandante         float64\n",
       "defesas_goleiro_visitante        float64\n",
       "cartoes_amarelos_mandante          int64\n",
       "cartoes_amarelos_visitante         int64\n",
       "cartoes_vermelhos_mandante         int64\n",
       "cartoes_vermelhos_visitante        int64\n",
       "odd_mandante                     float64\n",
       "odd_empate                       float64\n",
       "odd_visitante                    float64\n",
       "diferenca_gols_primeiro_tempo      int64\n",
       "placar_primeiro_tempo             object\n",
       "PlacarFinal                       object\n",
       "dtype: object"
      ]
     },
     "execution_count": 20,
     "metadata": {},
     "output_type": "execute_result"
    }
   ],
   "source": [
    "X.dtypes"
   ]
  },
  {
   "cell_type": "markdown",
   "metadata": {},
   "source": [
    "### Tratamento variável categórica"
   ]
  },
  {
   "cell_type": "code",
   "execution_count": 21,
   "metadata": {},
   "outputs": [],
   "source": [
    "X = pd.get_dummies(X, columns=['placar_primeiro_tempo'], drop_first=True)"
   ]
  },
  {
   "cell_type": "markdown",
   "metadata": {},
   "source": [
    "### Reescala"
   ]
  },
  {
   "cell_type": "code",
   "execution_count": 22,
   "metadata": {},
   "outputs": [],
   "source": [
    "from sklearn.preprocessing import MinMaxScaler"
   ]
  },
  {
   "cell_type": "code",
   "execution_count": 23,
   "metadata": {},
   "outputs": [],
   "source": [
    "X[['posse_bola_mandante', 'posse_bola_visitante', 'tentativas_gol_mandante', 'tentativas_gol_visitante',\n",
    "         'finalizacoes_mandante', 'finalizacoes_visitante', 'chutes_fora_mandante', 'chutes_fora_visitante',\n",
    "         'faltas_cobradas_mandante', 'escanteios_mandante', 'escanteios_visitante', 'impedimentos_mandante',\n",
    "         'impedimentos_visitante', 'defesas_goleiro_visitante', 'defesas_goleiro_mandante',\n",
    "         'cartoes_amarelos_mandante', 'cartoes_amarelos_visitante', 'cartoes_vermelhos_mandante',\n",
    "         'cartoes_vermelhos_visitante', 'odd_mandante', 'odd_empate', 'odd_visitante', \n",
    "          'diferenca_gols_primeiro_tempo', 'placar_primeiro_tempo_E', 'placar_primeiro_tempo_V']] = MinMaxScaler().fit_transform(X[['posse_bola_mandante', 'posse_bola_visitante', 'tentativas_gol_mandante', 'tentativas_gol_visitante',\n",
    "         'finalizacoes_mandante', 'finalizacoes_visitante', 'chutes_fora_mandante', 'chutes_fora_visitante',\n",
    "         'faltas_cobradas_mandante', 'escanteios_mandante', 'escanteios_visitante', 'impedimentos_mandante',\n",
    "         'impedimentos_visitante', 'defesas_goleiro_visitante', 'defesas_goleiro_mandante',\n",
    "         'cartoes_amarelos_mandante', 'cartoes_amarelos_visitante', 'cartoes_vermelhos_mandante',\n",
    "         'cartoes_vermelhos_visitante', 'odd_mandante', 'odd_empate', 'odd_visitante', \n",
    "          'diferenca_gols_primeiro_tempo', 'placar_primeiro_tempo_E', 'placar_primeiro_tempo_V']])"
   ]
  },
  {
   "cell_type": "markdown",
   "metadata": {},
   "source": [
    "## Predição"
   ]
  },
  {
   "cell_type": "code",
   "execution_count": 24,
   "metadata": {},
   "outputs": [],
   "source": [
    "y = X.PlacarFinal\n",
    "X = X.drop('PlacarFinal', axis=1)"
   ]
  },
  {
   "cell_type": "code",
   "execution_count": 25,
   "metadata": {},
   "outputs": [],
   "source": [
    "y = y.map({'D': 0, 'E': 1, 'V': 2})"
   ]
  },
  {
   "cell_type": "markdown",
   "metadata": {},
   "source": [
    "#### Colunas removidas com base na importância delas"
   ]
  },
  {
   "cell_type": "code",
   "execution_count": 26,
   "metadata": {},
   "outputs": [],
   "source": [
    "X.drop(['defesas_goleiro_mandante', 'defesas_goleiro_visitante', 'cartoes_vermelhos_mandante', 'cartoes_vermelhos_visitante'], axis=1, inplace=True)"
   ]
  },
  {
   "cell_type": "code",
   "execution_count": 27,
   "metadata": {},
   "outputs": [
    {
     "data": {
      "text/html": [
       "<div>\n",
       "<style scoped>\n",
       "    .dataframe tbody tr th:only-of-type {\n",
       "        vertical-align: middle;\n",
       "    }\n",
       "\n",
       "    .dataframe tbody tr th {\n",
       "        vertical-align: top;\n",
       "    }\n",
       "\n",
       "    .dataframe thead th {\n",
       "        text-align: right;\n",
       "    }\n",
       "</style>\n",
       "<table border=\"1\" class=\"dataframe\">\n",
       "  <thead>\n",
       "    <tr style=\"text-align: right;\">\n",
       "      <th></th>\n",
       "      <th>posse_bola_mandante</th>\n",
       "      <th>posse_bola_visitante</th>\n",
       "      <th>tentativas_gol_mandante</th>\n",
       "      <th>tentativas_gol_visitante</th>\n",
       "      <th>finalizacoes_mandante</th>\n",
       "      <th>finalizacoes_visitante</th>\n",
       "      <th>chutes_fora_mandante</th>\n",
       "      <th>chutes_fora_visitante</th>\n",
       "      <th>faltas_cobradas_mandante</th>\n",
       "      <th>faltas_cobradas_visitante</th>\n",
       "      <th>...</th>\n",
       "      <th>impedimentos_mandante</th>\n",
       "      <th>impedimentos_visitante</th>\n",
       "      <th>cartoes_amarelos_mandante</th>\n",
       "      <th>cartoes_amarelos_visitante</th>\n",
       "      <th>odd_mandante</th>\n",
       "      <th>odd_empate</th>\n",
       "      <th>odd_visitante</th>\n",
       "      <th>diferenca_gols_primeiro_tempo</th>\n",
       "      <th>placar_primeiro_tempo_E</th>\n",
       "      <th>placar_primeiro_tempo_V</th>\n",
       "    </tr>\n",
       "  </thead>\n",
       "  <tbody>\n",
       "    <tr>\n",
       "      <th>0</th>\n",
       "      <td>0.588235</td>\n",
       "      <td>0.411765</td>\n",
       "      <td>0.192308</td>\n",
       "      <td>0.285714</td>\n",
       "      <td>0.230769</td>\n",
       "      <td>0.416667</td>\n",
       "      <td>0.166667</td>\n",
       "      <td>0.214286</td>\n",
       "      <td>0.333333</td>\n",
       "      <td>7.0</td>\n",
       "      <td>...</td>\n",
       "      <td>0.111111</td>\n",
       "      <td>0.125</td>\n",
       "      <td>0.000000</td>\n",
       "      <td>0.000000</td>\n",
       "      <td>0.114243</td>\n",
       "      <td>0.067164</td>\n",
       "      <td>0.034400</td>\n",
       "      <td>0.500000</td>\n",
       "      <td>1.0</td>\n",
       "      <td>0.0</td>\n",
       "    </tr>\n",
       "    <tr>\n",
       "      <th>1</th>\n",
       "      <td>0.588235</td>\n",
       "      <td>0.411765</td>\n",
       "      <td>0.153846</td>\n",
       "      <td>0.142857</td>\n",
       "      <td>0.076923</td>\n",
       "      <td>0.166667</td>\n",
       "      <td>0.250000</td>\n",
       "      <td>0.142857</td>\n",
       "      <td>0.333333</td>\n",
       "      <td>7.0</td>\n",
       "      <td>...</td>\n",
       "      <td>0.000000</td>\n",
       "      <td>0.000</td>\n",
       "      <td>0.142857</td>\n",
       "      <td>0.142857</td>\n",
       "      <td>0.053850</td>\n",
       "      <td>0.093817</td>\n",
       "      <td>0.064575</td>\n",
       "      <td>0.500000</td>\n",
       "      <td>1.0</td>\n",
       "      <td>0.0</td>\n",
       "    </tr>\n",
       "    <tr>\n",
       "      <th>2</th>\n",
       "      <td>0.588235</td>\n",
       "      <td>0.411765</td>\n",
       "      <td>0.307692</td>\n",
       "      <td>0.142857</td>\n",
       "      <td>0.230769</td>\n",
       "      <td>0.083333</td>\n",
       "      <td>0.416667</td>\n",
       "      <td>0.214286</td>\n",
       "      <td>0.333333</td>\n",
       "      <td>7.0</td>\n",
       "      <td>...</td>\n",
       "      <td>0.000000</td>\n",
       "      <td>0.000</td>\n",
       "      <td>0.285714</td>\n",
       "      <td>0.142857</td>\n",
       "      <td>0.033719</td>\n",
       "      <td>0.104478</td>\n",
       "      <td>0.124925</td>\n",
       "      <td>0.583333</td>\n",
       "      <td>0.0</td>\n",
       "      <td>1.0</td>\n",
       "    </tr>\n",
       "    <tr>\n",
       "      <th>3</th>\n",
       "      <td>0.588235</td>\n",
       "      <td>0.411765</td>\n",
       "      <td>0.461538</td>\n",
       "      <td>0.107143</td>\n",
       "      <td>0.538462</td>\n",
       "      <td>0.083333</td>\n",
       "      <td>0.416667</td>\n",
       "      <td>0.142857</td>\n",
       "      <td>0.333333</td>\n",
       "      <td>7.0</td>\n",
       "      <td>...</td>\n",
       "      <td>0.000000</td>\n",
       "      <td>0.000</td>\n",
       "      <td>0.142857</td>\n",
       "      <td>0.285714</td>\n",
       "      <td>0.094112</td>\n",
       "      <td>0.061834</td>\n",
       "      <td>0.042446</td>\n",
       "      <td>0.500000</td>\n",
       "      <td>1.0</td>\n",
       "      <td>0.0</td>\n",
       "    </tr>\n",
       "    <tr>\n",
       "      <th>4</th>\n",
       "      <td>0.588235</td>\n",
       "      <td>0.411765</td>\n",
       "      <td>0.115385</td>\n",
       "      <td>0.107143</td>\n",
       "      <td>0.000000</td>\n",
       "      <td>0.083333</td>\n",
       "      <td>0.250000</td>\n",
       "      <td>0.142857</td>\n",
       "      <td>0.333333</td>\n",
       "      <td>7.0</td>\n",
       "      <td>...</td>\n",
       "      <td>0.000000</td>\n",
       "      <td>0.000</td>\n",
       "      <td>0.000000</td>\n",
       "      <td>0.000000</td>\n",
       "      <td>0.053850</td>\n",
       "      <td>0.071429</td>\n",
       "      <td>0.084691</td>\n",
       "      <td>0.500000</td>\n",
       "      <td>1.0</td>\n",
       "      <td>0.0</td>\n",
       "    </tr>\n",
       "    <tr>\n",
       "      <th>...</th>\n",
       "      <td>...</td>\n",
       "      <td>...</td>\n",
       "      <td>...</td>\n",
       "      <td>...</td>\n",
       "      <td>...</td>\n",
       "      <td>...</td>\n",
       "      <td>...</td>\n",
       "      <td>...</td>\n",
       "      <td>...</td>\n",
       "      <td>...</td>\n",
       "      <td>...</td>\n",
       "      <td>...</td>\n",
       "      <td>...</td>\n",
       "      <td>...</td>\n",
       "      <td>...</td>\n",
       "      <td>...</td>\n",
       "      <td>...</td>\n",
       "      <td>...</td>\n",
       "      <td>...</td>\n",
       "      <td>...</td>\n",
       "      <td>...</td>\n",
       "    </tr>\n",
       "    <tr>\n",
       "      <th>19008</th>\n",
       "      <td>0.494118</td>\n",
       "      <td>0.505882</td>\n",
       "      <td>0.192308</td>\n",
       "      <td>0.357143</td>\n",
       "      <td>0.230769</td>\n",
       "      <td>0.583333</td>\n",
       "      <td>0.166667</td>\n",
       "      <td>0.214286</td>\n",
       "      <td>0.380952</td>\n",
       "      <td>6.0</td>\n",
       "      <td>...</td>\n",
       "      <td>0.111111</td>\n",
       "      <td>0.000</td>\n",
       "      <td>0.000000</td>\n",
       "      <td>0.142857</td>\n",
       "      <td>0.194766</td>\n",
       "      <td>0.061834</td>\n",
       "      <td>0.020318</td>\n",
       "      <td>0.583333</td>\n",
       "      <td>0.0</td>\n",
       "      <td>1.0</td>\n",
       "    </tr>\n",
       "    <tr>\n",
       "      <th>19009</th>\n",
       "      <td>0.529412</td>\n",
       "      <td>0.470588</td>\n",
       "      <td>0.192308</td>\n",
       "      <td>0.214286</td>\n",
       "      <td>0.153846</td>\n",
       "      <td>0.250000</td>\n",
       "      <td>0.250000</td>\n",
       "      <td>0.214286</td>\n",
       "      <td>0.238095</td>\n",
       "      <td>10.0</td>\n",
       "      <td>...</td>\n",
       "      <td>0.000000</td>\n",
       "      <td>0.000</td>\n",
       "      <td>0.285714</td>\n",
       "      <td>0.285714</td>\n",
       "      <td>0.073981</td>\n",
       "      <td>0.051173</td>\n",
       "      <td>0.061155</td>\n",
       "      <td>0.583333</td>\n",
       "      <td>0.0</td>\n",
       "      <td>1.0</td>\n",
       "    </tr>\n",
       "    <tr>\n",
       "      <th>19010</th>\n",
       "      <td>0.305882</td>\n",
       "      <td>0.694118</td>\n",
       "      <td>0.115385</td>\n",
       "      <td>0.250000</td>\n",
       "      <td>0.076923</td>\n",
       "      <td>0.333333</td>\n",
       "      <td>0.166667</td>\n",
       "      <td>0.214286</td>\n",
       "      <td>0.380952</td>\n",
       "      <td>10.0</td>\n",
       "      <td>...</td>\n",
       "      <td>0.222222</td>\n",
       "      <td>0.000</td>\n",
       "      <td>0.142857</td>\n",
       "      <td>0.000000</td>\n",
       "      <td>0.161047</td>\n",
       "      <td>0.051173</td>\n",
       "      <td>0.026755</td>\n",
       "      <td>0.500000</td>\n",
       "      <td>1.0</td>\n",
       "      <td>0.0</td>\n",
       "    </tr>\n",
       "    <tr>\n",
       "      <th>19011</th>\n",
       "      <td>0.482353</td>\n",
       "      <td>0.517647</td>\n",
       "      <td>0.115385</td>\n",
       "      <td>0.071429</td>\n",
       "      <td>0.000000</td>\n",
       "      <td>0.000000</td>\n",
       "      <td>0.250000</td>\n",
       "      <td>0.142857</td>\n",
       "      <td>0.333333</td>\n",
       "      <td>9.0</td>\n",
       "      <td>...</td>\n",
       "      <td>0.000000</td>\n",
       "      <td>0.000</td>\n",
       "      <td>0.142857</td>\n",
       "      <td>0.428571</td>\n",
       "      <td>0.161047</td>\n",
       "      <td>0.051173</td>\n",
       "      <td>0.026755</td>\n",
       "      <td>0.500000</td>\n",
       "      <td>1.0</td>\n",
       "      <td>0.0</td>\n",
       "    </tr>\n",
       "    <tr>\n",
       "      <th>19012</th>\n",
       "      <td>0.552941</td>\n",
       "      <td>0.447059</td>\n",
       "      <td>0.192308</td>\n",
       "      <td>0.071429</td>\n",
       "      <td>0.153846</td>\n",
       "      <td>0.166667</td>\n",
       "      <td>0.250000</td>\n",
       "      <td>0.000000</td>\n",
       "      <td>0.476190</td>\n",
       "      <td>9.0</td>\n",
       "      <td>...</td>\n",
       "      <td>0.222222</td>\n",
       "      <td>0.000</td>\n",
       "      <td>0.000000</td>\n",
       "      <td>0.428571</td>\n",
       "      <td>0.161047</td>\n",
       "      <td>0.072495</td>\n",
       "      <td>0.022330</td>\n",
       "      <td>0.416667</td>\n",
       "      <td>0.0</td>\n",
       "      <td>0.0</td>\n",
       "    </tr>\n",
       "  </tbody>\n",
       "</table>\n",
       "<p>19007 rows × 22 columns</p>\n",
       "</div>"
      ],
      "text/plain": [
       "       posse_bola_mandante  posse_bola_visitante  tentativas_gol_mandante  \\\n",
       "0                 0.588235              0.411765                 0.192308   \n",
       "1                 0.588235              0.411765                 0.153846   \n",
       "2                 0.588235              0.411765                 0.307692   \n",
       "3                 0.588235              0.411765                 0.461538   \n",
       "4                 0.588235              0.411765                 0.115385   \n",
       "...                    ...                   ...                      ...   \n",
       "19008             0.494118              0.505882                 0.192308   \n",
       "19009             0.529412              0.470588                 0.192308   \n",
       "19010             0.305882              0.694118                 0.115385   \n",
       "19011             0.482353              0.517647                 0.115385   \n",
       "19012             0.552941              0.447059                 0.192308   \n",
       "\n",
       "       tentativas_gol_visitante  finalizacoes_mandante  \\\n",
       "0                      0.285714               0.230769   \n",
       "1                      0.142857               0.076923   \n",
       "2                      0.142857               0.230769   \n",
       "3                      0.107143               0.538462   \n",
       "4                      0.107143               0.000000   \n",
       "...                         ...                    ...   \n",
       "19008                  0.357143               0.230769   \n",
       "19009                  0.214286               0.153846   \n",
       "19010                  0.250000               0.076923   \n",
       "19011                  0.071429               0.000000   \n",
       "19012                  0.071429               0.153846   \n",
       "\n",
       "       finalizacoes_visitante  chutes_fora_mandante  chutes_fora_visitante  \\\n",
       "0                    0.416667              0.166667               0.214286   \n",
       "1                    0.166667              0.250000               0.142857   \n",
       "2                    0.083333              0.416667               0.214286   \n",
       "3                    0.083333              0.416667               0.142857   \n",
       "4                    0.083333              0.250000               0.142857   \n",
       "...                       ...                   ...                    ...   \n",
       "19008                0.583333              0.166667               0.214286   \n",
       "19009                0.250000              0.250000               0.214286   \n",
       "19010                0.333333              0.166667               0.214286   \n",
       "19011                0.000000              0.250000               0.142857   \n",
       "19012                0.166667              0.250000               0.000000   \n",
       "\n",
       "       faltas_cobradas_mandante  faltas_cobradas_visitante  ...  \\\n",
       "0                      0.333333                        7.0  ...   \n",
       "1                      0.333333                        7.0  ...   \n",
       "2                      0.333333                        7.0  ...   \n",
       "3                      0.333333                        7.0  ...   \n",
       "4                      0.333333                        7.0  ...   \n",
       "...                         ...                        ...  ...   \n",
       "19008                  0.380952                        6.0  ...   \n",
       "19009                  0.238095                       10.0  ...   \n",
       "19010                  0.380952                       10.0  ...   \n",
       "19011                  0.333333                        9.0  ...   \n",
       "19012                  0.476190                        9.0  ...   \n",
       "\n",
       "       impedimentos_mandante  impedimentos_visitante  \\\n",
       "0                   0.111111                   0.125   \n",
       "1                   0.000000                   0.000   \n",
       "2                   0.000000                   0.000   \n",
       "3                   0.000000                   0.000   \n",
       "4                   0.000000                   0.000   \n",
       "...                      ...                     ...   \n",
       "19008               0.111111                   0.000   \n",
       "19009               0.000000                   0.000   \n",
       "19010               0.222222                   0.000   \n",
       "19011               0.000000                   0.000   \n",
       "19012               0.222222                   0.000   \n",
       "\n",
       "       cartoes_amarelos_mandante  cartoes_amarelos_visitante  odd_mandante  \\\n",
       "0                       0.000000                    0.000000      0.114243   \n",
       "1                       0.142857                    0.142857      0.053850   \n",
       "2                       0.285714                    0.142857      0.033719   \n",
       "3                       0.142857                    0.285714      0.094112   \n",
       "4                       0.000000                    0.000000      0.053850   \n",
       "...                          ...                         ...           ...   \n",
       "19008                   0.000000                    0.142857      0.194766   \n",
       "19009                   0.285714                    0.285714      0.073981   \n",
       "19010                   0.142857                    0.000000      0.161047   \n",
       "19011                   0.142857                    0.428571      0.161047   \n",
       "19012                   0.000000                    0.428571      0.161047   \n",
       "\n",
       "       odd_empate  odd_visitante  diferenca_gols_primeiro_tempo  \\\n",
       "0        0.067164       0.034400                       0.500000   \n",
       "1        0.093817       0.064575                       0.500000   \n",
       "2        0.104478       0.124925                       0.583333   \n",
       "3        0.061834       0.042446                       0.500000   \n",
       "4        0.071429       0.084691                       0.500000   \n",
       "...           ...            ...                            ...   \n",
       "19008    0.061834       0.020318                       0.583333   \n",
       "19009    0.051173       0.061155                       0.583333   \n",
       "19010    0.051173       0.026755                       0.500000   \n",
       "19011    0.051173       0.026755                       0.500000   \n",
       "19012    0.072495       0.022330                       0.416667   \n",
       "\n",
       "       placar_primeiro_tempo_E  placar_primeiro_tempo_V  \n",
       "0                          1.0                      0.0  \n",
       "1                          1.0                      0.0  \n",
       "2                          0.0                      1.0  \n",
       "3                          1.0                      0.0  \n",
       "4                          1.0                      0.0  \n",
       "...                        ...                      ...  \n",
       "19008                      0.0                      1.0  \n",
       "19009                      0.0                      1.0  \n",
       "19010                      1.0                      0.0  \n",
       "19011                      1.0                      0.0  \n",
       "19012                      0.0                      0.0  \n",
       "\n",
       "[19007 rows x 22 columns]"
      ]
     },
     "execution_count": 27,
     "metadata": {},
     "output_type": "execute_result"
    }
   ],
   "source": [
    "X"
   ]
  },
  {
   "cell_type": "code",
   "execution_count": 28,
   "metadata": {},
   "outputs": [],
   "source": [
    "from sklearn.model_selection import train_test_split\n",
    "from sklearn import linear_model\n",
    "lm = linear_model.LinearRegression()\n",
    "X_train, X_test, y_train, y_test = train_test_split(X, y, test_size=0.30, random_state=123)"
   ]
  },
  {
   "cell_type": "code",
   "execution_count": 29,
   "metadata": {},
   "outputs": [],
   "source": [
    "from sklearn.ensemble import ExtraTreesClassifier\n",
    "from sklearn.feature_selection import SelectFromModel"
   ]
  },
  {
   "cell_type": "code",
   "execution_count": 30,
   "metadata": {},
   "outputs": [
    {
     "data": {
      "text/plain": [
       "array([0.04226937, 0.04115717, 0.03981845, 0.03904059, 0.03840739,\n",
       "       0.03814661, 0.03604725, 0.03473476, 0.03811414, 0.03797276,\n",
       "       0.03702452, 0.03628718, 0.03270563, 0.03306147, 0.03535801,\n",
       "       0.03927942, 0.07441961, 0.05536852, 0.07028191, 0.05313687,\n",
       "       0.03572463, 0.11164373])"
      ]
     },
     "execution_count": 30,
     "metadata": {},
     "output_type": "execute_result"
    }
   ],
   "source": [
    "clf = ExtraTreesClassifier()\n",
    "clf = clf.fit(X, y)\n",
    "clf.feature_importances_ #Mostra a importância de cada atributo"
   ]
  },
  {
   "cell_type": "code",
   "execution_count": 31,
   "metadata": {},
   "outputs": [
    {
     "data": {
      "text/plain": [
       "Index(['posse_bola_mandante', 'posse_bola_visitante',\n",
       "       'tentativas_gol_mandante', 'tentativas_gol_visitante',\n",
       "       'finalizacoes_mandante', 'finalizacoes_visitante',\n",
       "       'chutes_fora_mandante', 'chutes_fora_visitante',\n",
       "       'faltas_cobradas_mandante', 'faltas_cobradas_visitante',\n",
       "       'escanteios_mandante', 'escanteios_visitante', 'impedimentos_mandante',\n",
       "       'impedimentos_visitante', 'cartoes_amarelos_mandante',\n",
       "       'cartoes_amarelos_visitante', 'odd_mandante', 'odd_empate',\n",
       "       'odd_visitante', 'diferenca_gols_primeiro_tempo',\n",
       "       'placar_primeiro_tempo_E', 'placar_primeiro_tempo_V'],\n",
       "      dtype='object')"
      ]
     },
     "execution_count": 31,
     "metadata": {},
     "output_type": "execute_result"
    }
   ],
   "source": [
    "X.columns"
   ]
  },
  {
   "cell_type": "code",
   "execution_count": 32,
   "metadata": {},
   "outputs": [
    {
     "data": {
      "text/plain": [
       "0.638435910924075"
      ]
     },
     "execution_count": 32,
     "metadata": {},
     "output_type": "execute_result"
    }
   ],
   "source": [
    "from sklearn.linear_model import LogisticRegression\n",
    "##parametros determinados a partir do gridcvsearch\n",
    "clf = LogisticRegression(random_state=0, max_iter=1000, solver='saga', penalty='l1', C=0.6158).fit(X_train,y_train)\n",
    "y_pred = clf.predict(X_test)\n",
    "clf.score(X_test,y_test)"
   ]
  },
  {
   "cell_type": "code",
   "execution_count": 33,
   "metadata": {},
   "outputs": [
    {
     "data": {
      "image/png": "[encoded data removed]",
      "text/plain": [
       "<Figure size 432x288 with 2 Axes>"
      ]
     },
     "metadata": {
      "needs_background": "light"
     },
     "output_type": "display_data"
    }
   ],
   "source": [
    "from sklearn.metrics import confusion_matrix\n",
    "import seaborn as sns\n",
    "\n",
    "sns.heatmap(confusion_matrix(y_test, y_pred), cmap='OrRd', annot=True, fmt='2.0f')\n",
    "plt.ylabel('P R E V I S T O')\n",
    "plt.xlabel('R E A L')\n",
    "plt.show()"
   ]
  }
 ],
 "metadata": {
  "kernelspec": {
   "display_name": "Python 3",
   "language": "python",
   "name": "python3"
  },
  "language_info": {
   "codemirror_mode": {
    "name": "ipython",
    "version": 3
   },
   "file_extension": ".py",
   "mimetype": "text/x-python",
   "name": "python",
   "nbconvert_exporter": "python",
   "pygments_lexer": "ipython3",
   "version": "3.8.2"
  }
 },
 "nbformat": 4,
 "nbformat_minor": 4
}
